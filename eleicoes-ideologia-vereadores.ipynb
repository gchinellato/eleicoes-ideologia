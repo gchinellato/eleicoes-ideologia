{
 "cells": [
  {
   "cell_type": "markdown",
   "metadata": {},
   "source": [
    "# Grandes cidades brasileiras são progressistas?"
   ]
  },
  {
   "cell_type": "markdown",
   "metadata": {},
   "source": [
    "O objetivo do estudo é entender se existe algum movimento similar ao EUA em que grandes cidades tendem a ser mais *progressistas* e cidades menores mais *conservadoras*.\n",
    "\n",
    "Para isso é analisado o total de prefeitos eleitos por partido por densidade populacional.\n",
    "\n",
    "No cenário brasileiro é extremamente complicado definir o mapa ideológio dos partidos, por exemplo, o diretório nacional de um partido pode ter um viés mais centro/direita e o diretório estadual mais centro/esquerda. Como o autor desconhece uma forma objetiva de classificar a ideologia dos partidos por região, é utilizado o GPS ideológico da Folha: http://temas.folha.uol.com.br/gps-ideologico/\n",
    "\n",
    "**Mapa ideológico dos partidos**\n",
    "\n",
    "- <ins>Esquerda</ins>: PCB / PT, UP, PSOL, PSTU / PC DO B, PCO / PDT, REDE, PSB, PV\n",
    "- <ins>Centro</ins>: SD, PROS, PTB / PRB, MDB, PP / PSDB, PMN, PMB / CDD, PSD\n",
    "- <ins>Direita</ins>: DEM, PL, DC, AVT, PSC, PODE / PATRI / NOVO, PRTB, PSL / PTC\n",
    "\n",
    "Uma alternativa seria utilizar o basômetro do Estadão: https://arte.estadao.com.br/politica/basometro/\n",
    "\n",
    "O autor também entende que é uma visão simplista agrupar os partidos em um único grupo ideológico, existem diversas esquerdas (progressista, trabalhista, socialista...), centros (centro democrático e centrão) e direitas (liberal, conversadora, reacionária...), porém isso pode ser refinado no futuro.\n",
    "\n",
    "**Cidades grandes e pequenas**\n",
    "\n",
    "A classificação de grandes e pequenas cidades é definida utilizando os seguintes critérios:\n",
    "- <ins>Grandes cidades</ins>: Municípios com densidade populacional entre 200 e 20k pop/km2 (~400 cidades)\n",
    "- <ins>Pequenas cidades</ins>: Municípios com densidade populacional entre 0 e 200 pop/km2 (~5168 cidades)\n",
    "\n",
    "**Referências**\n",
    "- https://engaging-data.com/election-population-density/\n",
    "- https://www.pewresearch.org/politics/interactives/political-polarization-1994-2017/\n",
    "- https://news.gallup.com/poll/275792/remained-center-right-ideologically-2019.aspx\n",
    "- https://www.nytimes.com/interactive/2020/11/03/us/elections/results-president.html\n",
    "\n",
    "**Notas**\n",
    "\n",
    "- PRN virou PTC em 2000\n",
    "- PPB virou PP em abril de 2003\n",
    "- PFL virou DEM em março de 2007\n",
    "- PTN virou PODE em maio de 2017\n",
    "- PT DO B virou AVT em setembro de 2017\n",
    "- PEN virou PATRI em abril de 2018\n",
    "- PMDB virou MDB em maio de 2018\n",
    "- PSDC virou DC em maio de 2018\n",
    "- PPS virou CDD em março de 2019\n",
    "- PR virou PL em maio de 2019\n",
    "- PRB virou PR em agosto de 2019\n",
    "- PST, PHS, PRP, PPL, PAN e PRONA foram extintos"
   ]
  },
  {
   "cell_type": "code",
   "execution_count": 1,
   "metadata": {},
   "outputs": [],
   "source": [
    "import pandas as pd\n",
    "import six\n",
    "import numpy as np\n",
    "import matplotlib.pyplot as plt\n",
    "import matplotlib.animation as animation\n",
    "from matplotlib.colors import ListedColormap\n",
    "import seaborn as sns\n",
    "import itertools\n",
    "import geopandas as gpd\n",
    "\n",
    "from pandas.plotting import table \n",
    "from IPython.display import HTML\n",
    "from unidecode import unidecode\n",
    "\n",
    "%matplotlib inline"
   ]
  },
  {
   "cell_type": "markdown",
   "metadata": {},
   "source": [
    "# Ler repositório de votação do TSE (1996-2018)"
   ]
  },
  {
   "cell_type": "markdown",
   "metadata": {},
   "source": [
    "Dados compilados pelo Brasil.io: https://brasil.io/dataset/eleicoes-brasil/votacoes/"
   ]
  },
  {
   "cell_type": "code",
   "execution_count": 2,
   "metadata": {},
   "outputs": [],
   "source": [
    "cols = ['ano_eleicao', 'descricao_totalizacao_turno', \n",
    "        'codigo_municipio', 'nome_municipio', 'sigla_uf', 'nome_partido', 'numero_partido', \n",
    "        'sigla_partido', 'descricao_cargo', 'nome', 'numero_urna', 'numero_zona', 'total_votos']\n",
    "\n",
    "df_chunk = pd.read_csv('input/2019-04-08/votacao-zona.csv', sep=',', usecols=cols, encoding='latin1', chunksize=1000000)"
   ]
  },
  {
   "cell_type": "code",
   "execution_count": 3,
   "metadata": {},
   "outputs": [
    {
     "name": "stderr",
     "output_type": "stream",
     "text": [
      "C:\\Users\\guilh\\Anaconda3\\lib\\site-packages\\IPython\\core\\interactiveshell.py:3058: DtypeWarning: Columns (12) have mixed types. Specify dtype option on import or set low_memory=False.\n",
      "  interactivity=interactivity, compiler=compiler, result=result)\n"
     ]
    }
   ],
   "source": [
    "chunk_list = []\n",
    "\n",
    "for chunk in df_chunk:  \n",
    "    chunk_filter = chunk[chunk.descricao_cargo == 'VEREADOR']\n",
    "    #chunk_filter = chunk_filter[chunk_filter.descricao_totalizacao_turno.isin(['ELEITO', 'ELEITO POR QP', 'ELEITO POR MEDIA'])]\n",
    "    #chunk_filter.drop(['descricao_totalizacao_turno', 'descricao_cargo'], axis=1, inplace=True)\n",
    "    chunk_list.append(chunk_filter)    \n",
    "df_concat = pd.concat(chunk_list)"
   ]
  },
  {
   "cell_type": "code",
   "execution_count": null,
   "metadata": {},
   "outputs": [],
   "source": []
  }
 ],
 "metadata": {
  "kernelspec": {
   "display_name": "Python 3",
   "language": "python",
   "name": "python3"
  },
  "language_info": {
   "codemirror_mode": {
    "name": "ipython",
    "version": 3
   },
   "file_extension": ".py",
   "mimetype": "text/x-python",
   "name": "python",
   "nbconvert_exporter": "python",
   "pygments_lexer": "ipython3",
   "version": "3.7.4"
  }
 },
 "nbformat": 4,
 "nbformat_minor": 4
}
