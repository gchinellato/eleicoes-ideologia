{
 "cells": [
  {
   "cell_type": "markdown",
   "metadata": {},
   "source": [
    "# Grandes cidades brasileiras são progressistas?"
   ]
  },
  {
   "cell_type": "code",
   "execution_count": null,
   "metadata": {},
   "outputs": [],
   "source": [
    "import pandas as pd\n",
    "import six\n",
    "import numpy as np\n",
    "import matplotlib.pyplot as plt\n",
    "import matplotlib.animation as animation\n",
    "from matplotlib.colors import ListedColormap\n",
    "import seaborn as sns\n",
    "import itertools\n",
    "import geopandas as gpd\n",
    "\n",
    "from pandas.plotting import table \n",
    "from IPython.display import HTML\n",
    "from unidecode import unidecode\n",
    "\n",
    "%matplotlib inline"
   ]
  },
  {
   "cell_type": "markdown",
   "metadata": {},
   "source": [
    "# Ler repositório de votação do TSE (1996-2018)"
   ]
  },
  {
   "cell_type": "markdown",
   "metadata": {},
   "source": [
    "Dados compilados pelo Brasil.io: https://brasil.io/dataset/eleicoes-brasil/votacoes/"
   ]
  },
  {
   "cell_type": "code",
   "execution_count": null,
   "metadata": {},
   "outputs": [],
   "source": [
    "cols = ['ano_eleicao', 'descricao_totalizacao_turno', \n",
    "        'codigo_municipio', 'nome_municipio', 'sigla_uf', 'nome_partido', 'numero_partido', \n",
    "        'sigla_partido', 'descricao_cargo', 'nome', 'numero_urna', 'numero_zona', 'total_votos']\n",
    "\n",
    "df_chunk = pd.read_csv('input/2019-04-08/votacao-zona.csv', sep=',', usecols=cols, encoding='latin1', chunksize=1000000)"
   ]
  },
  {
   "cell_type": "code",
   "execution_count": null,
   "metadata": {},
   "outputs": [],
   "source": [
    "chunk_list = []\n",
    "\n",
    "for chunk in df_chunk:  \n",
    "    chunk_filter = chunk[chunk.descricao_cargo == 'VEREADOR']\n",
    "    chunk_filter = chunk_filter[chunk_filter.descricao_totalizacao_turno.isin(['ELEITO', 'ELEITO POR QP', 'ELEITO POR MEDIA'])]\n",
    "    chunk_filter.drop(['descricao_totalizacao_turno', 'descricao_cargo'], axis=1, inplace=True)\n",
    "    chunk_list.append(chunk_filter)    \n",
    "df_concat = pd.concat(chunk_list)"
   ]
  },
  {
   "cell_type": "markdown",
   "metadata": {},
   "source": [
    "# Dados parciais 2020"
   ]
  },
  {
   "cell_type": "code",
   "execution_count": null,
   "metadata": {},
   "outputs": [],
   "source": [
    "cols = ['codtse','ncand','nome','partido','votabs','situacao','uf']\n",
    "df_2020 = pd.read_csv('input/vereadores2020.csv', sep=';', usecols=cols)"
   ]
  },
  {
   "cell_type": "code",
   "execution_count": null,
   "metadata": {},
   "outputs": [],
   "source": [
    "df_2020 = df_2020[df_2020.situacao == 'Eleito']\n",
    "df_2020.drop('situacao', axis=1, inplace=True)\n",
    "df_2020.columns = ['codigo_municipio', 'numero_urna', 'nome', 'sigla_partido', 'total_votos', 'sigla_uf']"
   ]
  },
  {
   "cell_type": "markdown",
   "metadata": {},
   "source": [
    "Criar colunas para satisfazer dataset principal"
   ]
  },
  {
   "cell_type": "code",
   "execution_count": null,
   "metadata": {},
   "outputs": [],
   "source": [
    "df_2020['ano_eleicao'] = 2020\n",
    "df_2020['numero_partido'] = df_2020['numero_urna'].astype(str).str[:2].astype(int)\n",
    "df_2020['numero_zona'] = 0"
   ]
  },
  {
   "cell_type": "code",
   "execution_count": null,
   "metadata": {},
   "outputs": [],
   "source": [
    "df_temp = pd.read_excel('input/tse_partidos.xlsx')\n",
    "dict_partidos = pd.Series(df_temp.NOME.values, index = df_temp.LEGENDA.values).to_dict()\n",
    "df_2020['nome_partido'] = df_2020.numero_partido.map(dict_partidos)"
   ]
  },
  {
   "cell_type": "code",
   "execution_count": null,
   "metadata": {},
   "outputs": [],
   "source": [
    "dict_sigla_partidos = pd.Series(df_temp.SIGLA.values, index = df_temp.LEGENDA.values).to_dict()\n",
    "df_2020['sigla_partido'] = df_2020.numero_partido.map(dict_sigla_partidos)"
   ]
  },
  {
   "cell_type": "code",
   "execution_count": null,
   "metadata": {},
   "outputs": [],
   "source": [
    "df_temp = df_concat[['codigo_municipio', 'nome_municipio']].drop_duplicates('codigo_municipio', keep='first').sort_values('codigo_municipio')\n",
    "dict_municipios = pd.Series(df_temp.nome_municipio.values, index = df_temp.codigo_municipio.values).to_dict()\n",
    "df_2020['nome_municipio'] = df_2020.codigo_municipio.map(dict_municipios)"
   ]
  },
  {
   "cell_type": "markdown",
   "metadata": {},
   "source": [
    "Agrupar zonas eleitorais"
   ]
  },
  {
   "cell_type": "code",
   "execution_count": null,
   "metadata": {},
   "outputs": [],
   "source": [
    "df = df_concat.append(df_2020, sort=False)"
   ]
  },
  {
   "cell_type": "code",
   "execution_count": null,
   "metadata": {},
   "outputs": [],
   "source": [
    "df = df.groupby(['ano_eleicao','codigo_municipio','numero_urna',\n",
    "                'nome_municipio','sigla_uf','nome_partido','numero_partido','sigla_partido'])['total_votos'].sum().reset_index()"
   ]
  },
  {
   "cell_type": "markdown",
   "metadata": {},
   "source": [
    "# Filtrar por ano da eleição"
   ]
  },
  {
   "cell_type": "code",
   "execution_count": null,
   "metadata": {},
   "outputs": [],
   "source": [
    "ano_da_eleicao = df.ano_eleicao.unique().tolist()[1:]"
   ]
  },
  {
   "cell_type": "markdown",
   "metadata": {},
   "source": [
    "Renomear partidos antigos"
   ]
  },
  {
   "cell_type": "code",
   "execution_count": null,
   "metadata": {},
   "outputs": [],
   "source": [
    "df.sigla_partido.replace('PRN','PTC', inplace=True)\n",
    "df.sigla_partido.replace('PPB','PP', inplace=True)\n",
    "df.sigla_partido.replace('PFL','DEM', inplace=True)\n",
    "df.sigla_partido.replace('PTN','PODE', inplace=True)\n",
    "df.sigla_partido.replace('PT DO B','AVT', inplace=True)\n",
    "df.sigla_partido.replace('PEN','PATRI', inplace=True)\n",
    "df.sigla_partido.replace('PMDB','MDB', inplace=True)\n",
    "df.sigla_partido.replace('PSDC','DC', inplace=True)\n",
    "df.sigla_partido.replace('PPS','CDD', inplace=True)\n",
    "df.sigla_partido.replace('PR','PL', inplace=True)"
   ]
  },
  {
   "cell_type": "markdown",
   "metadata": {},
   "source": [
    "# Mapa ideológico dos partidos"
   ]
  },
  {
   "cell_type": "code",
   "execution_count": null,
   "metadata": {},
   "outputs": [],
   "source": [
    "mapa_ideologico = {'PCB':'Esquerda',\n",
    "                    'PT':'Esquerda',\n",
    "                    'UP':'Esquerda',\n",
    "                    'PSOL':'Esquerda',\n",
    "                    'PSTU':'Esquerda',\n",
    "                    'PC DO B':'Esquerda',\n",
    "                    'PCO':'Esquerda',\n",
    "                    'PDT':'Esquerda',\n",
    "                    'REDE':'Esquerda',\n",
    "                    'PSB':'Esquerda',\n",
    "                    'PV':'Esquerda',\n",
    "                    'SD':'Centro',\n",
    "                    'PROS':'Centro',\n",
    "                    'PTB':'Centro',\n",
    "                    'PRB':'Centro',\n",
    "                    'PP':'Centro',\n",
    "                    'PMN':'Centro',\n",
    "                    'PMB':'Centro',\n",
    "                    'MDB':'Centro',\n",
    "                    'PSDB':'Centro',\n",
    "                    'CDD':'Centro',\n",
    "                    'PSD':'Centro',\n",
    "                    'DEM':'Direita',\n",
    "                    'PL':'Direita',\n",
    "                    'DC':'Direita',\n",
    "                    'AVT':'Direita',\n",
    "                    'PSC':'Direita',\n",
    "                    'PODE':'Direita',\n",
    "                    'PATRI':'Direita',\n",
    "                    'NOVO':'Direita',\n",
    "                    'PRTB':'Direita',\n",
    "                    'PSL':'Direita',\n",
    "                    'PTC':'Direita',\n",
    "                    'PGT':'Esquerda',\n",
    "                    'PST':'Esquerda',\n",
    "                    'PHS':'Direita',\n",
    "                    'PRP':'Direita',\n",
    "                    'PPL':'Esquerda',\n",
    "                    'PAN':'Centro',\n",
    "                    'PRONA':'Direita'}"
   ]
  },
  {
   "cell_type": "code",
   "execution_count": null,
   "metadata": {},
   "outputs": [],
   "source": [
    "df['ideologia'] = df.sigla_partido.map(mapa_ideologico)"
   ]
  },
  {
   "cell_type": "markdown",
   "metadata": {},
   "source": [
    "# Lista de população, tamanho e densidade por município"
   ]
  },
  {
   "cell_type": "code",
   "execution_count": null,
   "metadata": {},
   "outputs": [],
   "source": [
    "sigla_estado = {'AC':'Acre',\n",
    "                'AL':'Alagoas',\n",
    "                'AP':'Amapa',\n",
    "                'AM':'Amazonas',\n",
    "                'BA':'Bahia',\n",
    "                'CE':'Ceara',\n",
    "                'DF':'Distrito Federal',\n",
    "                'ES':'Espirito Santos',\n",
    "                'GO':'Goias',\n",
    "                'MA':'Maranhao',\n",
    "                'MT':'Mato Grosso',\n",
    "                'MS':'Mato Grosso do Sul',\n",
    "                'MG':'Minas Gerais',\n",
    "                'PA':'Para',\n",
    "                'PB':'Paraiba',\n",
    "                'PR':'Parana',\n",
    "                'PE':'Pernambuco',\n",
    "                'PI':'Piaui',\n",
    "                'RJ':'Rio de Janeiro',\n",
    "                'RN':'Rio Grande do Norte',\n",
    "                'RS':'Rio Grande do Sul',\n",
    "                'RO':'Rondonia',\n",
    "                'RR':'Roraima',\n",
    "                'SC':'Santa Catarina',\n",
    "                'SP':'Sao Paulo',\n",
    "                'SE':'Sergipe',\n",
    "                'TO':'Tocantins'}"
   ]
  },
  {
   "cell_type": "code",
   "execution_count": null,
   "metadata": {},
   "outputs": [],
   "source": [
    "regioes = {'Norte':['AC','AP','AM','PA','RO','RR','TO'],\n",
    "           'Nordente':['AL','BA','CE','MA','PB','PE','PI','RN','SE'],\n",
    "           'Centro-Oeste':['GO','MT','MS'],\n",
    "           'Sudeste':['ES','MG','RJ','SP'],\n",
    "           'Sul':['PR','SC','RN']}"
   ]
  },
  {
   "cell_type": "code",
   "execution_count": null,
   "metadata": {},
   "outputs": [],
   "source": [
    "capitais = {'AC':'Rio Branco',\n",
    "            'AL':'Maceio',\n",
    "            'AP':'Macapa',\n",
    "            'AM':'Manaus',\n",
    "            'BA':'Salvador',\n",
    "            'CE':'Fortaleza',\n",
    "            'DF':'Brasilia',\n",
    "            'ES':'Vitoria',\n",
    "            'GO':'Goiania',\n",
    "            'MA':'São Luis',\n",
    "            'MT':'Cuiaba',\n",
    "            'MS':'Campo Grande',\n",
    "            'MG':'Belo Horizonte',\n",
    "            'PA':'Belem',\n",
    "            'PB':'Joao Pessoa',\n",
    "            'PR':'Curitiba',\n",
    "            'PE':'Recife',\n",
    "            'PI':'Teresina',\n",
    "            'RJ':'Rio de Janeiro',\n",
    "            'RN':'Natal',\n",
    "            'RS':'Porto Alegre',\n",
    "            'RO':'Porto Velho',\n",
    "            'RR':'Boa Vista',\n",
    "            'SC':'Florianopolis',\n",
    "            'SP':'Sao Paulo',\n",
    "            'SE':'Aracaju',\n",
    "            'TO':'Palmas'}"
   ]
  },
  {
   "cell_type": "markdown",
   "metadata": {},
   "source": [
    "Obter lista da população, tamanho e densidade por município"
   ]
  },
  {
   "cell_type": "code",
   "execution_count": null,
   "metadata": {},
   "outputs": [],
   "source": [
    "url = 'https://pt.wikipedia.org/wiki/Lista_de_munic%C3%ADpios_do_Brasil_por_popula%C3%A7%C3%A3o_(2020)'\n",
    "municipio_pop = pd.read_html(url, thousands=' ')[0]\n",
    "\n",
    "# eliminar espaço para converter para int\n",
    "municipio_pop['População'] = municipio_pop['População'].str.replace('\\D', '').astype(int)\n",
    "\n",
    "# converter estado e municipio para sem acentos e maiusculo\n",
    "municipio_pop['Unidade federativa'] = municipio_pop['Unidade federativa'].str.upper().apply(lambda x: unidecode(x))\n",
    "municipio_pop['Município'] = municipio_pop['Município'].str.upper().apply(lambda x: unidecode(x))\n",
    "\n",
    "# abreviar UF\n",
    "municipio_pop['sigla_uf'] = municipio_pop['Unidade federativa'].str.upper().apply(lambda x: [k for k, v in sigla_estado.items() if (unidecode(v.upper()) == x)])\n",
    "municipio_pop = municipio_pop.explode('sigla_uf')\n",
    "\n",
    "municipio_pop.drop('Posição', axis=1, inplace=True)\n",
    "municipio_pop.set_index('Código IBGE', inplace=True)"
   ]
  },
  {
   "cell_type": "code",
   "execution_count": null,
   "metadata": {},
   "outputs": [],
   "source": [
    "url = 'https://pt.m.wikipedia.org/wiki/Lista_de_munic%C3%ADpios_brasileiros_por_%C3%A1rea_decrescente'\n",
    "municipio_km = pd.read_html(url, thousands=' ')[0]\n",
    "\n",
    "municipio_km['Área (km²)'] = municipio_km['Área (km²)'].str.replace(',','.').str.replace(u'\\xa0', u'').astype(float)\n",
    "municipio_km.drop(['Posição','Município', 'Unidade federativa'], axis=1, inplace=True)\n",
    "municipio_km.rename(columns={'Código do IBGE':'Código IBGE'}, inplace=True)\n",
    "municipio_km.set_index('Código IBGE', inplace=True)"
   ]
  },
  {
   "cell_type": "code",
   "execution_count": null,
   "metadata": {},
   "outputs": [],
   "source": [
    "density_label = ['0-5','5-10','10-20','20-50','50-100','100-200','200-20k']\n",
    "\n",
    "def grupo_densidade(den):\n",
    "    if den >= 0 and den < 5:\n",
    "        return 0\n",
    "    elif den >= 5 and den < 10:\n",
    "        return 1\n",
    "    elif den >= 10 and den < 20:\n",
    "        return 2\n",
    "    elif den >= 20 and den < 50:\n",
    "        return 3\n",
    "    elif den >= 50 and den < 100:\n",
    "        return 4\n",
    "    elif den >= 100 and den < 200:\n",
    "        return 5\n",
    "    elif den >= 200 and den < 20000:\n",
    "        return 6\n",
    "    else:\n",
    "        return 'other'"
   ]
  },
  {
   "cell_type": "code",
   "execution_count": null,
   "metadata": {},
   "outputs": [],
   "source": [
    "municipios = pd.merge(municipio_pop, municipio_km, on='Código IBGE')\n",
    "municipios['densidade'] = municipios['População'] / municipios['Área (km²)']"
   ]
  },
  {
   "cell_type": "code",
   "execution_count": null,
   "metadata": {},
   "outputs": [],
   "source": [
    "municipios['grupo_densidade'] = municipios.apply(lambda x : grupo_densidade(x.densidade), axis=1)"
   ]
  },
  {
   "cell_type": "code",
   "execution_count": null,
   "metadata": {},
   "outputs": [],
   "source": [
    "# Obter tabela de correspondencia entre codigo de municipio do IBGE e TSE\n",
    "link = 'https://raw.githubusercontent.com/estadao/como-votou-sua-vizinhanca/master/data/votos/correspondencia-tse-ibge.csv'\n",
    "df_equivalencia = pd.read_csv(link)\n",
    "df_equivalencia.set_index('COD_TSE', drop=False, inplace=True)\n",
    "df_equivalencia.drop(['chave','NOME','UF'], axis=1, inplace=True)"
   ]
  },
  {
   "cell_type": "code",
   "execution_count": null,
   "metadata": {},
   "outputs": [],
   "source": [
    "df.set_index('codigo_municipio', drop=False, inplace=True)\n",
    "df = df.join(df_equivalencia)"
   ]
  },
  {
   "cell_type": "code",
   "execution_count": null,
   "metadata": {},
   "outputs": [],
   "source": [
    "df.set_index('GEOCOD_IBGE', drop=False, inplace=True)\n",
    "df = df.join(municipios[['População','densidade','grupo_densidade']])"
   ]
  },
  {
   "cell_type": "markdown",
   "metadata": {},
   "source": [
    "Latitude e Longitude"
   ]
  },
  {
   "cell_type": "code",
   "execution_count": null,
   "metadata": {},
   "outputs": [],
   "source": [
    "# Obter tabela latitude e longitude para municipios\n",
    "link = 'https://raw.githubusercontent.com/kelvins/Municipios-Brasileiros/main/csv/municipios.csv'\n",
    "df_lat_long = pd.read_csv(link)\n",
    "df_lat_long.set_index('codigo_ibge', inplace=True)\n",
    "df_lat_long.drop(['nome','capital','codigo_uf'], axis=1, inplace=True)"
   ]
  },
  {
   "cell_type": "code",
   "execution_count": null,
   "metadata": {},
   "outputs": [],
   "source": [
    "df = df.join(df_lat_long)"
   ]
  },
  {
   "cell_type": "markdown",
   "metadata": {},
   "source": [
    "# Funções auxiliares"
   ]
  },
  {
   "cell_type": "code",
   "execution_count": null,
   "metadata": {},
   "outputs": [],
   "source": [
    "def group_by_density(df, ideology=False):\n",
    "    res = pd.DataFrame()\n",
    "    for i, val in enumerate(ano_da_eleicao):\n",
    "        # Filtrar pelo ano e remover municipios duplicados\n",
    "        df_by_year = df[df.ano_eleicao == val]\n",
    "\n",
    "        # Agrupar municipios eleitos por partido\n",
    "        df_temp = df_by_year.groupby('sigla_partido').count().sort_values('codigo_municipio', ascending=False).iloc[:,0]\n",
    "        df_temp = df_temp.reset_index(name=val).set_index('sigla_partido')\n",
    "       \n",
    "        res = res.join(df_temp, how='outer') \n",
    "        \n",
    "    res.fillna(0,inplace=True)    \n",
    "    return res"
   ]
  },
  {
   "cell_type": "code",
   "execution_count": null,
   "metadata": {},
   "outputs": [],
   "source": [
    "def group_by_year(df):\n",
    "    res = pd.DataFrame()\n",
    "    for i, val in enumerate(ano_da_eleicao):\n",
    "        # Filtrar pelo ano e remover municipios duplicados\n",
    "        df_by_year = df[df.ano_eleicao == val]\n",
    "\n",
    "        # Agrupar municipios eleitos por partido\n",
    "        df_temp = df_by_year.groupby('sigla_partido').count().sort_values('codigo_municipio', ascending=False).iloc[:,0]\n",
    "        df_temp = df_temp.reset_index(name=val).set_index('sigla_partido')\n",
    "       \n",
    "        res = res.join(df_temp, how='outer') \n",
    "        \n",
    "    res.fillna(0,inplace=True)    \n",
    "    return res"
   ]
  },
  {
   "cell_type": "code",
   "execution_count": null,
   "metadata": {},
   "outputs": [],
   "source": [
    "def draw_barchart(year, df, ax, title, textstr):\n",
    "    res_by_year = df[[year]].dropna().sort_values(by=year, ascending=False).astype(int).head(10)\n",
    "    ax.clear()\n",
    "    b = sns.barplot(y=res_by_year.index, x=res_by_year.iloc[:,0], data=res_by_year, palette='plasma', ax=ax)\n",
    "\n",
    "    plt.title(title, fontsize=25, fontweight='bold')\n",
    "    plt.xlabel('Municípios', fontsize=15, fontweight='bold')\n",
    "    plt.ylabel('Partidos', fontsize=15, fontweight='bold')\n",
    "\n",
    "    b.set_yticks([])\n",
    "    plt.xticks(fontsize=15)\n",
    "\n",
    "    dx = res_by_year.iloc[:,0].max() / 100\n",
    "    pos = range(res_by_year.shape[0])\n",
    "    for tick in pos:\n",
    "        ax.text(res_by_year.iloc[tick,0]-dx, pos[tick], res_by_year.index[tick], ha='right', va='center',\n",
    "                fontsize=25, fontweight='bold', color='w')\n",
    "        ax.text(res_by_year.iloc[tick,0]+dx, pos[tick], res_by_year.iloc[tick,0], ha='left', va='center',\n",
    "                fontsize=20, fontweight='bold')\n",
    "        \n",
    "    ax.text(0.8, 0.4, str(year), transform=ax.transAxes, color='#777777', size=60, ha='right', weight=800)\n",
    "        \n",
    "    props = dict(boxstyle='round', facecolor='wheat', alpha=0.5)\n",
    "    ax.text(0.8, 0.1, textstr, transform=ax.transAxes, fontsize=15,\n",
    "            verticalalignment='top', bbox=props)"
   ]
  },
  {
   "cell_type": "code",
   "execution_count": null,
   "metadata": {},
   "outputs": [],
   "source": [
    "def max_size(column_lenght, max_size=5):\n",
    "    if column_lenght > max_size:\n",
    "        size = max_size\n",
    "    else:\n",
    "        size = column_lenght\n",
    "    return size\n",
    "\n",
    "def draw_subplots(axs, r_esq, r_centro, r_dir, labels=5):\n",
    "    l_esq = sns.lineplot(data=r_esq, dashes=False, legend=False, linewidth=5, marker='o',\n",
    "                     markersize=15, palette='Reds_r', ax=axs[0])\n",
    "    l_centro = sns.lineplot(data=r_centro, dashes=False, legend=False, linewidth=5, marker='o',\n",
    "                 markersize=15, palette='YlOrBr_r', ax=axs[1])\n",
    "    l_dir = sns.lineplot(data=r_dir, dashes=False, legend=False, linewidth=5, marker='o',\n",
    "                     markersize=15, palette='Blues_r', ax=axs[2])\n",
    "\n",
    "    axs[0].set_title('Esquerda', loc='left', fontsize=20, fontweight='bold', color='grey')\n",
    "    axs[1].set_title('Centro', loc='left', fontsize=20, fontweight='bold', color='grey')\n",
    "    axs[2].set_title('Direita', loc='left', fontsize=20, fontweight='bold', color='grey')  \n",
    "    \n",
    "    axs[0].set_ylabel('Municípios', labelpad=2, fontsize=15, fontweight='bold', color='grey')\n",
    "    axs[1].set_ylabel('Municípios', labelpad=2, fontsize=15, fontweight='bold', color='grey')\n",
    "    axs[2].set_ylabel('Municípios', labelpad=2, fontsize=15, fontweight='bold', color='grey')\n",
    "  \n",
    "    axs[0].set_xticks(np.arange(ano_da_eleicao[0], ano_da_eleicao[-1]+2, step=4))\n",
    "    axs[1].set_xticks(np.arange(ano_da_eleicao[0], ano_da_eleicao[-1]+2, step=4))\n",
    "    axs[2].set_xticks(np.arange(ano_da_eleicao[0], ano_da_eleicao[-1]+2, step=4))\n",
    "    \n",
    "    axs[0].set_xticklabels(labels=[int(i) for i in axs[0].get_xticks()], fontsize=15, color='grey')\n",
    "    axs[1].set_xticklabels(labels=[int(i) for i in axs[1].get_xticks()], fontsize=15, color='grey')\n",
    "    axs[2].set_xticklabels(labels=[int(i) for i in axs[2].get_xticks()], fontsize=15, color='grey')\n",
    "    \n",
    "    axs[0].set_yticklabels(labels=[int(i) for i in axs[0].get_yticks()], fontsize=15, color='grey')\n",
    "    axs[1].set_yticklabels(labels=[int(i) for i in axs[1].get_yticks()], fontsize=15, color='grey')\n",
    "    axs[2].set_yticklabels(labels=[int(i) for i in axs[2].get_yticks()], fontsize=15, color='grey')\n",
    "    \n",
    "    axs[0].spines['bottom'].set_color('grey')\n",
    "    axs[0].spines['left'].set_color('grey')\n",
    "    axs[1].spines['bottom'].set_color('grey')\n",
    "    axs[1].spines['left'].set_color('grey') \n",
    "    axs[2].spines['bottom'].set_color('grey')\n",
    "    axs[2].spines['left'].set_color('grey')     \n",
    "\n",
    "    for i in range(max_size(len(axs[0].get_lines()),labels)):\n",
    "        axs[0].text(r_esq.index[-1]+.2, r_esq.iloc[-1,i], r_esq.columns[i],\n",
    "                    fontsize=15, fontweight='bold', color=axs[0].get_lines()[i].get_color())\n",
    "\n",
    "    for i in range(max_size(len(axs[0].get_lines()),5)):\n",
    "        axs[1].text(r_centro.index[-1]+.2, r_centro.iloc[-1,i], r_centro.columns[i],\n",
    "                    fontsize=15, fontweight='bold', color=axs[1].get_lines()[i].get_color())\n",
    "\n",
    "    for i in range(max_size(len(axs[0].get_lines()),4)):\n",
    "        axs[2].text(r_dir.index[-1]+.2, r_dir.iloc[-1,i], r_dir.columns[i],\n",
    "                    fontsize=15, fontweight='bold', color=axs[2].get_lines()[i].get_color())\n",
    "        \n",
    "    axs[0].axvline(2005, color='grey', linestyle='--')\n",
    "    axs[0].axvline(2013, color='grey', linestyle='--')\n",
    "    axs[0].axvline(2014, color='grey', linestyle='--')\n",
    "    axs[0].axvline(2016, color='grey', linestyle='--')\n",
    "\n",
    "    axs[1].axvline(2005, color='grey', linestyle='--')\n",
    "    axs[1].axvline(2013, color='grey', linestyle='--')\n",
    "    axs[1].axvline(2014, color='grey', linestyle='--')\n",
    "    axs[1].axvline(2016, color='grey', linestyle='--')\n",
    "    \n",
    "    axs[2].axvline(2005, color='grey', linestyle='--')\n",
    "    axs[2].axvline(2013, color='grey', linestyle='--')\n",
    "    axs[2].axvline(2014, color='grey', linestyle='--')\n",
    "    axs[2].axvline(2016, color='grey', linestyle='--')\n",
    "\n",
    "    axs[0].text(0.275, 0.99, 'Mensalão', transform=axs[0].transAxes, rotation=-90,\n",
    "                fontsize=15, color='dimgrey', verticalalignment='top')\n",
    "    axs[0].text(0.635, 0.99, 'Manifestações', transform=axs[0].transAxes, rotation=-90,\n",
    "                fontsize=15, color='dimgrey', verticalalignment='top')\n",
    "    axs[0].text(0.685, 0.99, 'Lava Jato', transform=axs[0].transAxes, rotation=-90,\n",
    "                fontsize=15, color='dimgrey', verticalalignment='top')\n",
    "    axs[0].text(0.775, 0.99, 'Impeachment', transform=axs[0].transAxes, rotation=-90,\n",
    "                fontsize=15, color='dimgrey', verticalalignment='top')"
   ]
  },
  {
   "cell_type": "markdown",
   "metadata": {},
   "source": [
    "# Evolução de vereadores eleitos por partido"
   ]
  },
  {
   "cell_type": "markdown",
   "metadata": {},
   "source": [
    "### Todos Municípios"
   ]
  },
  {
   "cell_type": "code",
   "execution_count": null,
   "metadata": {},
   "outputs": [],
   "source": [
    "res = pd.DataFrame()\n",
    "res = group_by_year(df)"
   ]
  },
  {
   "cell_type": "markdown",
   "metadata": {},
   "source": [
    "Preparar dataset para flourish"
   ]
  },
  {
   "cell_type": "code",
   "execution_count": null,
   "metadata": {},
   "outputs": [],
   "source": [
    "res.insert(0, 'ideologia', res.index.map(mapa_ideologico))\n",
    "res.to_excel('output/flourish_vereadores_municipios_total.xlsx')"
   ]
  },
  {
   "cell_type": "markdown",
   "metadata": {},
   "source": [
    "Agrupar por ideologia dos partidos\n"
   ]
  },
  {
   "cell_type": "code",
   "execution_count": null,
   "metadata": {},
   "outputs": [],
   "source": [
    "r_esq = res[res.ideologia == 'Esquerda']\n",
    "r_esq = r_esq.drop('ideologia', axis=1).T\n",
    "r_esq = r_esq.fillna(0).astype(int)\n",
    "r_esq.sort_values(r_esq.index[-1], axis=1, ascending=False, inplace=True)\n",
    "\n",
    "r_centro = res[res.ideologia == 'Centro']\n",
    "r_centro = r_centro.drop('ideologia', axis=1).T\n",
    "r_centro = r_centro.fillna(0).astype(int)\n",
    "r_centro.sort_values(r_centro.index[-1], axis=1, ascending=False, inplace=True)\n",
    "\n",
    "r_dir = res[res.ideologia == 'Direita']\n",
    "r_dir = r_dir.drop('ideologia', axis=1).T\n",
    "r_dir = r_dir.fillna(0).astype(int)\n",
    "r_dir.sort_values(r_dir.index[-1], axis=1, ascending=False, inplace=True)"
   ]
  },
  {
   "cell_type": "code",
   "execution_count": null,
   "metadata": {},
   "outputs": [],
   "source": [
    "fig, axs = plt.subplots(3,1, figsize = (20,20))\n",
    "\n",
    "sns.set_style('white')\n",
    "sns.despine()\n",
    "\n",
    "title = 'Vereadores Eleitos por Partido (todos municípios)'\n",
    "legend = '\\n'.join((\n",
    "    r'Fonte: TSE, 2020',\n",
    "    r'Autor: Guilherme Chinellato'\n",
    "))\n",
    "\n",
    "plt.text(x=0.125, y=0.9, s=title, fontsize=25, color='grey', fontweight='bold',\n",
    "         transform=fig.transFigure)\n",
    "\n",
    "axs[0].text(1.0, 1.0, legend, transform=axs[0].transAxes, fontsize=12, ha='right', va='top', color='grey')\n",
    "\n",
    "draw_subplots(axs, r_esq, r_centro, r_dir) \n",
    "\n",
    "plt.savefig('output/vereadores_partido_total.png', dpi=300, bbox_inches = 'tight')"
   ]
  },
  {
   "cell_type": "markdown",
   "metadata": {},
   "source": [
    "Resultado agregado"
   ]
  },
  {
   "cell_type": "code",
   "execution_count": null,
   "metadata": {},
   "outputs": [],
   "source": [
    "agg_total = pd.DataFrame(columns=['Esquerda','Centro','Direita'], index=ano_da_eleicao)\n",
    "for k,v in enumerate(r_esq.index):\n",
    "    agg_total.loc[v,'Esquerda'] = r_esq.loc[v].sum()\n",
    "\n",
    "for k,v in enumerate(r_centro.index):\n",
    "    agg_total.loc[v,'Centro'] = r_centro.loc[v].sum()\n",
    "    \n",
    "for k,v in enumerate(r_dir.index):\n",
    "    agg_total.loc[v,'Direita'] = r_dir.loc[v].sum()\n",
    "\n",
    "agg_total_var = agg_total.pct_change().stack().reset_index()\n",
    "agg_total_var.columns = ['Ano','Ideologia', 'Variação']\n",
    "    \n",
    "agg_total"
   ]
  },
  {
   "cell_type": "markdown",
   "metadata": {},
   "source": [
    "### Capitais"
   ]
  },
  {
   "cell_type": "code",
   "execution_count": null,
   "metadata": {},
   "outputs": [],
   "source": [
    "# converter estado e municipio para sem acentos e maiusculo\n",
    "capitais_upper = {k.upper() : unidecode(v.upper()) for k,v in capitais.items() }\n",
    "del capitais_upper['DF']\n",
    "\n",
    "# eliminar municipios que possuem o mesmo nome, mas são de diferentes estados\n",
    "df_temp = df.assign(nome_sigla_municipio = df.sigla_uf + ',' + df.nome_municipio)\n",
    "\n",
    "# somente municipios das capitais\n",
    "lista_capitais = [ k + ',' + v for k,v in capitais_upper.items() ]\n",
    "df_capitais = df_temp[(df_temp.nome_sigla_municipio.isin(lista_capitais))]"
   ]
  },
  {
   "cell_type": "code",
   "execution_count": null,
   "metadata": {},
   "outputs": [],
   "source": [
    "res_capitais = pd.DataFrame()\n",
    "res_capitais = group_by_year(df_capitais)"
   ]
  },
  {
   "cell_type": "markdown",
   "metadata": {},
   "source": [
    "Preparar dataset para flourish"
   ]
  },
  {
   "cell_type": "code",
   "execution_count": null,
   "metadata": {},
   "outputs": [],
   "source": [
    "res_capitais.insert(0, 'ideologia', res_capitais.index.map(mapa_ideologico))\n",
    "res_capitais.to_excel('output/flourish_vereadores_municipios_capitais.xlsx')"
   ]
  },
  {
   "cell_type": "markdown",
   "metadata": {},
   "source": [
    "Agrupar por ideologia dos partidos"
   ]
  },
  {
   "cell_type": "code",
   "execution_count": null,
   "metadata": {},
   "outputs": [],
   "source": [
    "r_esq_capitais = res_capitais[res_capitais.ideologia == 'Esquerda']\n",
    "r_esq_capitais = r_esq_capitais.drop('ideologia', axis=1).T\n",
    "r_esq_capitais = r_esq_capitais.fillna(0).astype(int)\n",
    "r_esq_capitais.sort_values(r_esq_capitais.index[-1], axis=1, ascending=False, inplace=True)\n",
    "\n",
    "r_centro_capitais = res_capitais[res_capitais.ideologia == 'Centro']\n",
    "r_centro_capitais = r_centro_capitais.drop('ideologia', axis=1).T\n",
    "r_centro_capitais = r_centro_capitais.fillna(0).astype(int)\n",
    "r_centro_capitais.sort_values(r_centro_capitais.index[-1], axis=1, ascending=False, inplace=True)\n",
    "\n",
    "r_dir_capitais = res_capitais[res_capitais.ideologia == 'Direita']\n",
    "r_dir_capitais = r_dir_capitais.drop('ideologia', axis=1).T\n",
    "r_dir_capitais = r_dir_capitais.fillna(0).astype(int)\n",
    "r_dir_capitais.sort_values(r_dir_capitais.index[-1], axis=1, ascending=False, inplace=True)"
   ]
  },
  {
   "cell_type": "raw",
   "metadata": {},
   "source": [
    "fig, axs = plt.subplots(3,1, figsize = (20,20))\n",
    "\n",
    "sns.set_style('white')\n",
    "sns.despine()\n",
    "\n",
    "title = 'Vereadores Eleitos por Partido (somente capitais)'\n",
    "plt.text(x=0.125, y=0.9, s=title, fontsize=25, color='grey', fontweight='bold',\n",
    "         transform=fig.transFigure)\n",
    "\n",
    "axs[0].text(1.0, 1.0, legend, transform=axs[0].transAxes, fontsize=12, ha='right', va='top', color='grey')\n",
    "\n",
    "draw_subplots(axs, r_esq_capitais, r_centro_capitais, r_dir_capitais)\n",
    "\n",
    "plt.savefig('output/vereadores_partido_capitais.png', dpi=300, bbox_inches = 'tight')"
   ]
  },
  {
   "cell_type": "markdown",
   "metadata": {},
   "source": [
    "Resultado agregado"
   ]
  },
  {
   "cell_type": "code",
   "execution_count": null,
   "metadata": {},
   "outputs": [],
   "source": [
    "agg_capitais = pd.DataFrame(columns=['Esquerda','Centro','Direita'], index=ano_da_eleicao)\n",
    "for k,v in enumerate(r_esq_capitais.index):\n",
    "    agg_capitais.loc[v,'Esquerda'] = r_esq_capitais.loc[v].sum()\n",
    "    \n",
    "for k,v in enumerate(r_centro_capitais.index):\n",
    "    agg_capitais.loc[v,'Centro'] = r_centro_capitais.loc[v].sum()\n",
    "    \n",
    "for k,v in enumerate(r_dir_capitais.index):\n",
    "    agg_capitais.loc[v,'Direita'] = r_dir_capitais.loc[v].sum()\n",
    "    \n",
    "agg_capitais_var = agg_capitais.pct_change().stack().reset_index()\n",
    "agg_capitais_var.columns = ['Ano','Ideologia', 'Variação']\n",
    "\n",
    "agg_capitais"
   ]
  },
  {
   "cell_type": "markdown",
   "metadata": {},
   "source": [
    "### Cidades Grandes: >500mil hab."
   ]
  },
  {
   "cell_type": "code",
   "execution_count": null,
   "metadata": {},
   "outputs": [],
   "source": [
    "res_municipios_grandes = pd.DataFrame()\n",
    "res_municipios_grandes = group_by_year(df[df['População'] >= 500000])"
   ]
  },
  {
   "cell_type": "code",
   "execution_count": null,
   "metadata": {},
   "outputs": [],
   "source": [
    "res_municipios_grandes.insert(0, 'ideologia', res_municipios_grandes.index.map(mapa_ideologico))\n",
    "res_municipios_grandes.to_excel('output/flourish_vereadores_municipios_grandes.xlsx')"
   ]
  },
  {
   "cell_type": "markdown",
   "metadata": {},
   "source": [
    "Agrupar por ideologia dos partidos"
   ]
  },
  {
   "cell_type": "code",
   "execution_count": null,
   "metadata": {},
   "outputs": [],
   "source": [
    "r_esq_municipios_grandes = res_municipios_grandes[res_municipios_grandes.ideologia == 'Esquerda']\n",
    "r_esq_municipios_grandes = r_esq_municipios_grandes.drop('ideologia', axis=1).T\n",
    "r_esq_municipios_grandes = r_esq_municipios_grandes.fillna(0).astype(int)\n",
    "r_esq_municipios_grandes.sort_values(r_esq_municipios_grandes.index[-1], axis=1, ascending=False, inplace=True)\n",
    "\n",
    "r_centro_municipios_grandes = res_municipios_grandes[res_municipios_grandes.ideologia == 'Centro']\n",
    "r_centro_municipios_grandes = r_centro_municipios_grandes.drop('ideologia', axis=1).T\n",
    "r_centro_municipios_grandes = r_centro_municipios_grandes.fillna(0).astype(int)\n",
    "r_centro_municipios_grandes.sort_values(r_centro_municipios_grandes.index[-1], axis=1, ascending=False, inplace=True)\n",
    "\n",
    "r_dir_municipios_grandes = res_municipios_grandes[res_municipios_grandes.ideologia == 'Direita']\n",
    "r_dir_municipios_grandes = r_dir_municipios_grandes.drop('ideologia', axis=1).T\n",
    "r_dir_municipios_grandes = r_dir_municipios_grandes.fillna(0).astype(int)\n",
    "r_dir_municipios_grandes.sort_values(r_dir_municipios_grandes.index[-1], axis=1, ascending=False, inplace=True)"
   ]
  },
  {
   "cell_type": "markdown",
   "metadata": {},
   "source": [
    "Resultado agregado"
   ]
  },
  {
   "cell_type": "code",
   "execution_count": null,
   "metadata": {},
   "outputs": [],
   "source": [
    "agg_municipios_grandes = pd.DataFrame(columns=['Esquerda','Centro','Direita'], index=ano_da_eleicao)\n",
    "for k,v in enumerate(r_esq_municipios_grandes.index):\n",
    "    agg_municipios_grandes.loc[v,'Esquerda'] = r_esq_municipios_grandes.loc[v].sum()\n",
    "\n",
    "for k,v in enumerate(r_centro_municipios_grandes.index):\n",
    "    agg_municipios_grandes.loc[v,'Centro'] = r_centro_municipios_grandes.loc[v].sum()\n",
    "    \n",
    "for k,v in enumerate(r_dir_municipios_grandes.index):\n",
    "    agg_municipios_grandes.loc[v,'Direita'] = r_dir_municipios_grandes.loc[v].sum()\n",
    "\n",
    "agg_municipios_grandes_var = agg_municipios_grandes.pct_change().stack().reset_index()\n",
    "agg_municipios_grandes_var.columns = ['Ano','Ideologia', 'Variação']\n",
    "    \n",
    "agg_municipios_grandes"
   ]
  },
  {
   "cell_type": "markdown",
   "metadata": {},
   "source": [
    "### Cidades Médias: >100mil e <500mil hab."
   ]
  },
  {
   "cell_type": "code",
   "execution_count": null,
   "metadata": {},
   "outputs": [],
   "source": [
    "res_municipios_medios = pd.DataFrame()\n",
    "res_municipios_medios = group_by_year(df[(df['População'] >= 100000) & (df['População'] < 500000)])"
   ]
  },
  {
   "cell_type": "code",
   "execution_count": null,
   "metadata": {},
   "outputs": [],
   "source": [
    "res_municipios_medios.insert(0, 'ideologia', res_municipios_medios.index.map(mapa_ideologico))\n",
    "res_municipios_medios.to_excel('output/flourish_vereadores_municipios_medios.xlsx')"
   ]
  },
  {
   "cell_type": "markdown",
   "metadata": {},
   "source": [
    "Agrupar por ideologia dos partidos"
   ]
  },
  {
   "cell_type": "code",
   "execution_count": null,
   "metadata": {},
   "outputs": [],
   "source": [
    "r_esq_municipios_medios = res_municipios_medios[res_municipios_medios.ideologia == 'Esquerda']\n",
    "r_esq_municipios_medios = r_esq_municipios_medios.drop('ideologia', axis=1).T\n",
    "r_esq_municipios_medios = r_esq_municipios_medios.fillna(0).astype(int)\n",
    "r_esq_municipios_medios.sort_values(r_esq_municipios_medios.index[-1], axis=1, ascending=False, inplace=True)\n",
    "\n",
    "r_centro_municipios_medios = res_municipios_medios[res_municipios_medios.ideologia == 'Centro']\n",
    "r_centro_municipios_medios = r_centro_municipios_medios.drop('ideologia', axis=1).T\n",
    "r_centro_municipios_medios = r_centro_municipios_medios.fillna(0).astype(int)\n",
    "r_centro_municipios_medios.sort_values(r_centro_municipios_medios.index[-1], axis=1, ascending=False, inplace=True)\n",
    "\n",
    "r_dir_municipios_medios = res_municipios_medios[res_municipios_medios.ideologia == 'Direita']\n",
    "r_dir_municipios_medios = r_dir_municipios_medios.drop('ideologia', axis=1).T\n",
    "r_dir_municipios_medios = r_dir_municipios_medios.fillna(0).astype(int)\n",
    "r_dir_municipios_medios.sort_values(r_dir_municipios_medios.index[-1], axis=1, ascending=False, inplace=True)"
   ]
  },
  {
   "cell_type": "markdown",
   "metadata": {},
   "source": [
    "Resultado agregado"
   ]
  },
  {
   "cell_type": "code",
   "execution_count": null,
   "metadata": {},
   "outputs": [],
   "source": [
    "agg_municipios_medios = pd.DataFrame(columns=['Esquerda','Centro','Direita'], index=ano_da_eleicao)\n",
    "for k,v in enumerate(r_esq_municipios_medios.index):\n",
    "    agg_municipios_medios.loc[v,'Esquerda'] = r_esq_municipios_medios.loc[v].sum()\n",
    "\n",
    "for k,v in enumerate(r_centro_municipios_medios.index):\n",
    "    agg_municipios_medios.loc[v,'Centro'] = r_centro_municipios_medios.loc[v].sum()\n",
    "    \n",
    "for k,v in enumerate(r_dir_municipios_medios.index):\n",
    "    agg_municipios_medios.loc[v,'Direita'] = r_dir_municipios_medios.loc[v].sum()\n",
    "\n",
    "agg_municipios_medios_var = agg_municipios_medios.pct_change().stack().reset_index()\n",
    "agg_municipios_medios_var.columns = ['Ano','Ideologia', 'Variação']\n",
    "    \n",
    "agg_municipios_medios"
   ]
  },
  {
   "cell_type": "markdown",
   "metadata": {},
   "source": [
    "### Cidades Pequenas: <100mil hab."
   ]
  },
  {
   "cell_type": "code",
   "execution_count": null,
   "metadata": {},
   "outputs": [],
   "source": [
    "res_municipios_pequenos = pd.DataFrame()\n",
    "res_municipios_pequenos = group_by_year(df[df['População'] < 100000])"
   ]
  },
  {
   "cell_type": "code",
   "execution_count": null,
   "metadata": {},
   "outputs": [],
   "source": [
    "res_municipios_pequenos.insert(0, 'ideologia', res_municipios_pequenos.index.map(mapa_ideologico))\n",
    "res_municipios_pequenos.to_excel('output/flourish_vereadores_municipios_pequenos.xlsx')"
   ]
  },
  {
   "cell_type": "markdown",
   "metadata": {},
   "source": [
    "Agrupar por ideologia dos partidos"
   ]
  },
  {
   "cell_type": "code",
   "execution_count": null,
   "metadata": {},
   "outputs": [],
   "source": [
    "r_esq_municipios_pequenos = res_municipios_pequenos[res_municipios_pequenos.ideologia == 'Esquerda']\n",
    "r_esq_municipios_pequenos = r_esq_municipios_pequenos.drop('ideologia', axis=1).T\n",
    "r_esq_municipios_pequenos = r_esq_municipios_pequenos.fillna(0).astype(int)\n",
    "r_esq_municipios_pequenos.sort_values(r_esq_municipios_pequenos.index[-1], axis=1, ascending=False, inplace=True)\n",
    "\n",
    "r_centro_municipios_pequenos = res_municipios_pequenos[res_municipios_pequenos.ideologia == 'Centro']\n",
    "r_centro_municipios_pequenos = r_centro_municipios_pequenos.drop('ideologia', axis=1).T\n",
    "r_centro_municipios_pequenos = r_centro_municipios_pequenos.fillna(0).astype(int)\n",
    "r_centro_municipios_pequenos.sort_values(r_centro_municipios_pequenos.index[-1], axis=1, ascending=False, inplace=True)\n",
    "\n",
    "r_dir_municipios_pequenos = res_municipios_pequenos[res_municipios_pequenos.ideologia == 'Direita']\n",
    "r_dir_municipios_pequenos = r_dir_municipios_pequenos.drop('ideologia', axis=1).T\n",
    "r_dir_municipios_pequenos = r_dir_municipios_pequenos.fillna(0).astype(int)\n",
    "r_dir_municipios_pequenos.sort_values(r_dir_municipios_pequenos.index[-1], axis=1, ascending=False, inplace=True)"
   ]
  },
  {
   "cell_type": "markdown",
   "metadata": {},
   "source": [
    "Resultado agregado"
   ]
  },
  {
   "cell_type": "code",
   "execution_count": null,
   "metadata": {},
   "outputs": [],
   "source": [
    "agg_municipios_pequenos = pd.DataFrame(columns=['Esquerda','Centro','Direita'], index=ano_da_eleicao)\n",
    "for k,v in enumerate(r_esq_municipios_pequenos.index):\n",
    "    agg_municipios_pequenos.loc[v,'Esquerda'] = r_esq_municipios_pequenos.loc[v].sum()\n",
    "\n",
    "for k,v in enumerate(r_centro_municipios_pequenos.index):\n",
    "    agg_municipios_pequenos.loc[v,'Centro'] = r_centro_municipios_pequenos.loc[v].sum()\n",
    "    \n",
    "for k,v in enumerate(r_dir_municipios_pequenos.index):\n",
    "    agg_municipios_pequenos.loc[v,'Direita'] = r_dir_municipios_pequenos.loc[v].sum()\n",
    "\n",
    "agg_municipios_pequenos_var = agg_municipios_pequenos.pct_change().stack().reset_index()\n",
    "agg_municipios_pequenos_var.columns = ['Ano','Ideologia', 'Variação']\n",
    "    \n",
    "agg_municipios_pequenos"
   ]
  },
  {
   "cell_type": "markdown",
   "metadata": {},
   "source": [
    "### Densidade Populacional"
   ]
  },
  {
   "cell_type": "code",
   "execution_count": null,
   "metadata": {},
   "outputs": [],
   "source": [
    "res_den = pd.DataFrame()\n",
    "for i, val in enumerate(ano_da_eleicao):\n",
    "    df_temp = df[df.ano_eleicao == val].drop_duplicates(subset='codigo_municipio', keep='first')\n",
    "    df_temp = df_temp.groupby(['grupo_densidade','ideologia'])['ideologia'].count().unstack()\n",
    "    df_temp.fillna(0, inplace=True)\n",
    "    df_temp['year'] = val\n",
    "    res_den = res_den.append(df_temp) \n",
    "    \n",
    "res_den.reset_index(drop=False, inplace=True)\n",
    "res_den = res_den[['year','grupo_densidade','Esquerda','Centro','Direita']]\n",
    "\n",
    "res_den.to_excel('output/flourish_vereadores_municipios_densidade.xlsx')"
   ]
  },
  {
   "cell_type": "raw",
   "metadata": {},
   "source": [
    "colors = ['red', 'orange', 'dodgerblue']\n",
    "\n",
    "year = 2020\n",
    "fig, ax = plt.subplots(figsize = (15,10))\n",
    "\n",
    "sns.set_style('white')\n",
    "sns.despine()\n",
    "\n",
    "title='Vereadores Eleitos por Ideologia do Partido - ' + str(year)\n",
    "plt.text(x=0.125, y=0.9, s=title, fontsize=25, color='grey', fontweight='bold',\n",
    "         transform=fig.transFigure)\n",
    "\n",
    "d = sns.catplot(data=res_den[res_den.year == year].iloc[:,1:].set_index('grupo_densidade').stack().reset_index(),\n",
    "                x='grupo_densidade', y=0, hue='ideologia', kind='bar', palette=colors, ax=ax)\n",
    "\n",
    "\n",
    "ax.set_xlabel('Densidade Populacional (hab./km2)', fontsize=15, fontweight='bold', color='grey')\n",
    "ax.set_ylabel('Municípios', fontsize=15, fontweight='bold', color='grey')\n",
    "ax.tick_params(axis='both', which='major', labelsize=15, color='grey')\n",
    "\n",
    "ax.set_yscale('linear')\n",
    "ax.set_xticklabels(density_label, fontsize=15, color='grey')\n",
    "ax.set_yticklabels(labels=[int(i) for i in ax.get_yticks()], fontsize=15, color='grey')\n",
    "\n",
    "ax.spines['bottom'].set_color('grey')\n",
    "ax.spines['left'].set_color('grey')\n",
    "\n",
    "l = ax.legend(loc='upper left', ncol=4, fontsize=13)\n",
    "for text in l.get_texts():\n",
    "    text.set_color('grey')\n",
    "\n",
    "ax.text(1.0, 1.0, legend, transform=ax.transAxes, fontsize=12, ha='right', va='top', color='grey')\n",
    "\n",
    "plt.close(2)\n",
    "plt.savefig('output/vereadores_ideologia_densidade_'+str(year)+'.png', dpi=300, bbox_inches = 'tight')"
   ]
  },
  {
   "cell_type": "code",
   "execution_count": null,
   "metadata": {},
   "outputs": [],
   "source": [
    "res_den_maior = res_den[res_den.grupo_densidade == 6].copy()\n",
    "res_den_maior.drop('grupo_densidade',axis=1,inplace=True)\n",
    "res_den_maior.set_index('year', inplace=True)\n",
    "\n",
    "res_den_menor = res_den[res_den.grupo_densidade != 6].groupby('year').sum()\n",
    "res_den_menor.drop('grupo_densidade',axis=1,inplace=True)\n",
    "\n",
    "res_den_maior_var = res_den_maior.pct_change().stack().reset_index()\n",
    "res_den_maior_var.columns = ['Ano','Ideologia','Variação']\n",
    "\n",
    "res_den_menor_var = res_den_menor.pct_change().stack().reset_index()\n",
    "res_den_menor_var.columns = ['Ano','Ideologia','Variação']"
   ]
  },
  {
   "cell_type": "markdown",
   "metadata": {},
   "source": [
    "# Evolução de prefeitos eleitos por ideologia do partido"
   ]
  },
  {
   "cell_type": "code",
   "execution_count": null,
   "metadata": {},
   "outputs": [],
   "source": [
    "col = ['Ano','Município','Esquerda','Centro','Direita']\n",
    "\n",
    "r = pd.DataFrame()\n",
    "for i, val in enumerate(ano_da_eleicao):    \n",
    "    t = pd.DataFrame(columns=col)\n",
    "\n",
    "    t['Ano'] = [val,val,val]\n",
    "    t['Município'] = ['Grandes','Médios','Pequenos']\n",
    "\n",
    "    t.iloc[0,2] = round((agg_municipios_grandes.loc[val,'Esquerda'] / agg_municipios_grandes.loc[val].sum())*100,2)\n",
    "    t.iloc[0,3] = round((agg_municipios_grandes.loc[val,'Centro'] / agg_municipios_grandes.loc[val].sum())*100,2)\n",
    "    t.iloc[0,4] = round((agg_municipios_grandes.loc[val,'Direita'] / agg_municipios_grandes.loc[val].sum())*100,2)\n",
    "\n",
    "    t.iloc[1,2] = round((agg_municipios_medios.loc[val,'Esquerda'] / agg_municipios_medios.loc[val].sum())*100,2)\n",
    "    t.iloc[1,3] = round((agg_municipios_medios.loc[val,'Centro'] / agg_municipios_medios.loc[val].sum())*100,2)\n",
    "    t.iloc[1,4] = round((agg_municipios_medios.loc[val,'Direita'] / agg_municipios_medios.loc[val].sum())*100,2)\n",
    "\n",
    "    t.iloc[2,2] = round((agg_municipios_pequenos.loc[val,'Esquerda'] / agg_municipios_pequenos.loc[val].sum())*100,2)\n",
    "    t.iloc[2,3] = round((agg_municipios_pequenos.loc[val,'Centro'] / agg_municipios_pequenos.loc[val].sum())*100,2)\n",
    "    t.iloc[2,4] =round((agg_municipios_pequenos.loc[val,'Direita'] / agg_municipios_pequenos.loc[val].sum())*100,2)\n",
    "    \n",
    "    r = r.append(t)\n",
    "    \n",
    "r.to_excel('output/flourish_vereadores_ideologia_perc.xlsx')\n",
    "r"
   ]
  },
  {
   "cell_type": "code",
   "execution_count": null,
   "metadata": {},
   "outputs": [],
   "source": [
    "colors = ['red', 'orange', 'dodgerblue']\n",
    "\n",
    "fig, axs = plt.subplots(3,1, figsize = (20,15))\n",
    "\n",
    "sns.set_style('white')\n",
    "sns.despine()\n",
    "\n",
    "title='Vereadores Eleitos por Ideologia do Partido'\n",
    "plt.text(x=0.125, y=0.91, s=title, fontsize=25, color='grey', fontweight='bold',\n",
    "         transform=fig.transFigure)\n",
    "\n",
    "l_grande = sns.lineplot(data=agg_municipios_grandes, dashes=False, legend=False, linewidth=5.5,\n",
    "                       palette=colors, marker='o', markersize=15, ax=axs[0])\n",
    "l_medio = sns.lineplot(data=agg_municipios_medios, dashes=False, legend=False, linewidth=5.5,\n",
    "                       palette=colors, marker='o', markersize=15, ax=axs[1])\n",
    "l_pequeno = sns.lineplot(data=agg_municipios_pequenos, dashes=False, legend=False, linewidth=5.5,\n",
    "                       palette=colors, marker='o', markersize=15, ax=axs[2])\n",
    "\n",
    "axs[0].set_title('Municípios Grandes', loc='left',\n",
    "                 fontsize=20, fontweight='bold', color='grey')\n",
    "axs[1].set_title('Municípios Médios', loc='left',\n",
    "                 fontsize=20, fontweight='bold', color='grey')\n",
    "axs[2].set_title('Municípios Pequenos', loc='left',\n",
    "                 fontsize=20, fontweight='bold', color='grey')\n",
    "\n",
    "axs[0].set_xlabel('')\n",
    "axs[1].set_xlabel('')\n",
    "axs[2].set_xlabel('')\n",
    "\n",
    "axs[0].set_ylabel('Municípios', labelpad=2, fontsize=15, fontweight='bold', color='grey')\n",
    "axs[1].set_ylabel('Municípios', labelpad=2, fontsize=15, fontweight='bold', color='grey')\n",
    "axs[2].set_ylabel('Municípios', labelpad=2, fontsize=15, fontweight='bold', color='grey')\n",
    "\n",
    "axs[0].set_xticks(np.arange(ano_da_eleicao[0], ano_da_eleicao[-1]+2, step=4))\n",
    "axs[1].set_xticks(np.arange(ano_da_eleicao[0], ano_da_eleicao[-1]+2, step=4))\n",
    "axs[2].set_xticks(np.arange(ano_da_eleicao[0], ano_da_eleicao[-1]+2, step=4))\n",
    "\n",
    "axs[0].set_xticklabels(labels=[int(i) for i in axs[0].get_xticks()], fontsize=15, color='grey')\n",
    "axs[1].set_xticklabels(labels=[int(i) for i in axs[1].get_xticks()], fontsize=15, color='grey')\n",
    "axs[2].set_xticklabels(labels=[int(i) for i in axs[2].get_xticks()], fontsize=15, color='grey')\n",
    "\n",
    "axs[0].set_yticklabels(labels=[int(i) for i in axs[0].get_yticks()], fontsize=15, color='grey')\n",
    "axs[1].set_yticklabels(labels=[int(i) for i in axs[1].get_yticks()], fontsize=15, color='grey')\n",
    "axs[2].set_yticklabels(labels=[int(i) for i in axs[2].get_yticks()], fontsize=15, color='grey')\n",
    "\n",
    "axs[0].spines['bottom'].set_color('grey')\n",
    "axs[0].spines['left'].set_color('grey')\n",
    "axs[1].spines['bottom'].set_color('grey')\n",
    "axs[1].spines['left'].set_color('grey') \n",
    "axs[2].spines['bottom'].set_color('grey')\n",
    "axs[2].spines['left'].set_color('grey') \n",
    "\n",
    "#def flip(items, ncol):\n",
    "#    return itertools.chain(*[items[i::ncol] for i in range(ncol)])\n",
    "\n",
    "#handles, labels = axs[0].get_legend_handles_labels()\n",
    "#leg = l_grande.legend(flip(handles, 4), flip(labels, 4), loc=2, ncol=4, fontsize=15, borderaxespad=0.)    \n",
    "#for line in leg.get_lines():\n",
    "#    line.set_linewidth(5.5)\n",
    "\n",
    "axs[0].text(1.0, 1.1, legend, transform=axs[0].transAxes, fontsize=12, ha='right', va='top', color='grey')\n",
    "\n",
    "for i in range(len(axs[0].get_lines())):\n",
    "    axs[0].text(agg_municipios_grandes.index[-1]+.2, agg_municipios_grandes.iloc[-1,i], agg_municipios_grandes.columns[i],\n",
    "                fontsize=15, fontweight='bold', color=axs[0].get_lines()[i].get_color())\n",
    "\n",
    "for i in range(len(axs[1].get_lines())):\n",
    "    axs[1].text(agg_municipios_medios.index[-1]+.2, agg_municipios_medios.iloc[-1,i], agg_municipios_medios.columns[i],\n",
    "                fontsize=15, fontweight='bold', color=axs[1].get_lines()[i].get_color())\n",
    "\n",
    "for i in range(len(axs[2].get_lines())):\n",
    "    axs[2].text(agg_municipios_pequenos.index[-1]+.2, agg_municipios_pequenos.iloc[-1,i], agg_municipios_pequenos.columns[i],\n",
    "                fontsize=15, fontweight='bold', color=axs[2].get_lines()[i].get_color())\n",
    "\n",
    "axs[0].axvline(2005, color='grey', linestyle='--')\n",
    "axs[0].axvline(2013, color='grey', linestyle='--')\n",
    "axs[0].axvline(2014, color='grey', linestyle='--')\n",
    "axs[0].axvline(2016, color='grey', linestyle='--')\n",
    "\n",
    "axs[1].axvline(2005, color='grey', linestyle='--')\n",
    "axs[1].axvline(2013, color='grey', linestyle='--')\n",
    "axs[1].axvline(2014, color='grey', linestyle='--')\n",
    "axs[1].axvline(2016, color='grey', linestyle='--')\n",
    "\n",
    "axs[2].axvline(2005, color='grey', linestyle='--')\n",
    "axs[2].axvline(2013, color='grey', linestyle='--')\n",
    "axs[2].axvline(2014, color='grey', linestyle='--')\n",
    "axs[2].axvline(2016, color='grey', linestyle='--')\n",
    "\n",
    "axs[0].text(0.275, 0.99, 'Mensalão', transform=axs[0].transAxes, rotation=-90,\n",
    "            fontsize=15, color='dimgrey', verticalalignment='top')\n",
    "axs[0].text(0.635, 0.99, 'Manifestações', transform=axs[0].transAxes, rotation=-90,\n",
    "            fontsize=15, color='dimgrey', verticalalignment='top')\n",
    "axs[0].text(0.685, 0.99, 'Lava Jato', transform=axs[0].transAxes, rotation=-90,\n",
    "            fontsize=15, color='dimgrey', verticalalignment='top')\n",
    "axs[0].text(0.775, 0.99, 'Impeachment', transform=axs[0].transAxes, rotation=-90,\n",
    "            fontsize=15, color='dimgrey', verticalalignment='top')\n",
    "\n",
    "plt.savefig('output/vereadores_ideologia.png', dpi=300, bbox_inches = 'tight')"
   ]
  },
  {
   "cell_type": "markdown",
   "metadata": {},
   "source": [
    "Variação entre eleições"
   ]
  },
  {
   "cell_type": "code",
   "execution_count": null,
   "metadata": {},
   "outputs": [],
   "source": [
    "fig, axs = plt.subplots(3,1, figsize = (20,20))\n",
    "\n",
    "sns.set_style('whitegrid')\n",
    "sns.despine()\n",
    "\n",
    "c_grande = sns.catplot(data=agg_municipios_grandes_var, x='Ano', y='Variação', hue='Ideologia', kind='bar',\n",
    "                      palette=colors, ax=axs[0])\n",
    "c_medio = sns.catplot(data=agg_municipios_medios_var, x='Ano', y='Variação', hue='Ideologia', kind='bar'\n",
    "                      , palette=colors, ax=axs[1])\n",
    "c_pequeno = sns.catplot(data=agg_municipios_pequenos_var, x='Ano', y='Variação', hue='Ideologia', kind='bar'\n",
    "                      , palette=colors, ax=axs[2])\n",
    "\n",
    "fig.suptitle('Variação entre Vereadores Eleitos por Ideologia do Partido', fontsize=25, fontweight='bold',\n",
    "             color='grey')\n",
    "\n",
    "axs[0].set_title('Municípios Grandes', loc='left', fontsize=20, fontweight='bold', color='grey')\n",
    "axs[1].set_title('Municípios Médios', loc='left', fontsize=20, fontweight='bold', color='grey')\n",
    "axs[2].set_title('Municípios Pequenos', loc='left', fontsize=20, fontweight='bold', color='grey')\n",
    "\n",
    "axs[0].set_xlabel('')\n",
    "axs[1].set_xlabel('')\n",
    "axs[2].set_xlabel('')\n",
    "\n",
    "axs[0].set_ylabel('Variação', labelpad=2, fontsize=15, fontweight='bold', color='grey')\n",
    "axs[1].set_ylabel('Variação', labelpad=2, fontsize=15, fontweight='bold', color='grey')\n",
    "axs[2].set_ylabel('Variação', labelpad=2, fontsize=15, fontweight='bold', color='grey')\n",
    "\n",
    "axs[0].set_xticklabels(labels=[ano_da_eleicao[i+1] for i in axs[0].get_xticks()], fontsize=15, color='grey')\n",
    "axs[1].set_xticklabels(labels=[ano_da_eleicao[i+1] for i in axs[1].get_xticks()], fontsize=15, color='grey')\n",
    "axs[2].set_xticklabels(labels=[ano_da_eleicao[i+1] for i in axs[2].get_xticks()], fontsize=15, color='grey')\n",
    "\n",
    "vals = axs[0].get_yticks()\n",
    "axs[0].set_yticklabels(['{:,.0%}'.format(x) for x in vals], fontsize=15, color='grey')\n",
    "vals = axs[1].get_yticks()\n",
    "axs[1].set_yticklabels(['{:,.0%}'.format(x) for x in vals], fontsize=15, color='grey')\n",
    "vals = axs[2].get_yticks()\n",
    "axs[2].set_yticklabels(['{:,.0%}'.format(x) for x in vals], fontsize=15, color='grey')\n",
    "\n",
    "axs[0].spines['bottom'].set_color('grey')\n",
    "axs[0].spines['left'].set_color('grey')\n",
    "axs[1].spines['bottom'].set_color('grey')\n",
    "axs[1].spines['left'].set_color('grey')\n",
    "axs[2].spines['bottom'].set_color('grey')\n",
    "axs[2].spines['left'].set_color('grey') \n",
    "\n",
    "l = axs[0].legend(loc='upper left', ncol=4, fontsize=15)\n",
    "for text in l.get_texts():\n",
    "    text.set_color('grey')\n",
    "axs[1].get_legend().remove()\n",
    "axs[2].get_legend().remove()\n",
    "\n",
    "axs[0].text(1.0, 1.01, legend, transform=axs[0].transAxes, fontsize=12, ha='right', va='top', color='grey')\n",
    "\n",
    "plt.close(2)\n",
    "plt.close(3)\n",
    "plt.close(4)\n",
    "fig.tight_layout(pad=6)\n",
    "plt.savefig('output/vereadores_ideologia_var.png', dpi=300, bbox_inches = 'tight')"
   ]
  },
  {
   "cell_type": "markdown",
   "metadata": {},
   "source": [
    "# Mapa Brasil"
   ]
  },
  {
   "cell_type": "code",
   "execution_count": null,
   "metadata": {},
   "outputs": [],
   "source": [
    "year=2020"
   ]
  },
  {
   "cell_type": "code",
   "execution_count": null,
   "metadata": {},
   "outputs": [],
   "source": [
    "def calcular_forca_ideologia(esquerda, centro, direita):\n",
    "    ideologia = ['Esquerda','Centro','Direita']\n",
    "    ideologia_50_perc = ['Esquerda >50%','Centro >50%','Direita >50%']\n",
    "    total = [esquerda, centro, direita]\n",
    "    \n",
    "    max_val = max(total)\n",
    "    max_index = total.index(max_val)\n",
    "    \n",
    "    perc = max_val / sum(total)\n",
    "    if perc > .5:\n",
    "        return ideologia_50_perc[max_index]\n",
    "    else:\n",
    "        return ideologia[max_index]"
   ]
  },
  {
   "cell_type": "code",
   "execution_count": null,
   "metadata": {},
   "outputs": [],
   "source": [
    "df_temp = df[df.ano_eleicao == 2020]\n",
    "t = pd.pivot_table(df_temp[['codigo_municipio','ideologia']], index=['codigo_municipio'], columns=['ideologia'], aggfunc=len, fill_value=0)\n",
    "\n",
    "df_temp = df_temp.drop_duplicates(subset='codigo_municipio',keep='first')\n",
    "df_temp = df_temp[['codigo_municipio','nome_municipio','sigla_uf','GEOCOD_IBGE','COD_TSE','AJUSTE',\n",
    "                'População','densidade','grupo_densidade','latitude','longitude']]\n",
    "df_temp.set_index('codigo_municipio', inplace=True)\n",
    "\n",
    "df_temp = pd.concat([df_temp, t],1, sort=False)"
   ]
  },
  {
   "cell_type": "code",
   "execution_count": null,
   "metadata": {},
   "outputs": [],
   "source": [
    "df_temp['total_vereadores'] = df_temp['Esquerda'] + df_temp['Centro'] + df_temp['Direita']\n",
    "df_temp['ideologia'] = df_temp.apply(lambda x : calcular_forca_ideologia(x['Esquerda'],x['Centro'],x['Direita']),axis=1)\n",
    "\n",
    "df_temp.drop(['COD_TSE','AJUSTE','grupo_densidade','Centro','Direita','Esquerda','total_vereadores'],1, inplace=True)\n",
    "df_temp = df_temp[['GEOCOD_IBGE','sigla_uf','nome_municipio','ideologia','latitude','longitude','População','densidade']]"
   ]
  },
  {
   "cell_type": "code",
   "execution_count": null,
   "metadata": {},
   "outputs": [],
   "source": [
    "df_temp.to_excel('output/flourish_vereadores_mapa_populacao_'+str(year)+'.xlsx')"
   ]
  },
  {
   "cell_type": "markdown",
   "metadata": {},
   "source": [
    "Municipios Grandes que cada ideologia possui maioria"
   ]
  },
  {
   "cell_type": "code",
   "execution_count": null,
   "metadata": {},
   "outputs": [],
   "source": [
    "df_temp.sort_values('População', ascending=False, inplace=True)"
   ]
  },
  {
   "cell_type": "code",
   "execution_count": null,
   "metadata": {},
   "outputs": [],
   "source": [
    "df_temp[(df_temp['População'] > 500000) & (df_temp.ideologia == 'Esquerda >50%') | (df_temp.ideologia == 'Esquerda')].head()"
   ]
  },
  {
   "cell_type": "code",
   "execution_count": null,
   "metadata": {},
   "outputs": [],
   "source": [
    "df_temp[(df_temp['População'] > 500000) & (df_temp.ideologia == 'Centro >50%') | (df_temp.ideologia == 'Centro')].head()"
   ]
  },
  {
   "cell_type": "code",
   "execution_count": null,
   "metadata": {},
   "outputs": [],
   "source": [
    "df_temp[(df_temp['População'] > 500000) & (df_temp.ideologia == 'Direita >50%') | (df_temp.ideologia == 'Direita')].head()"
   ]
  },
  {
   "cell_type": "markdown",
   "metadata": {},
   "source": [
    "Mapa do Brasil com quantidade de vereadores eleitos com determinada ideologia do partido"
   ]
  },
  {
   "cell_type": "code",
   "execution_count": null,
   "metadata": {},
   "outputs": [],
   "source": [
    "df_novo = df_temp.copy()\n",
    "df_novo.reset_index(inplace=True)\n",
    "df_novo['GEOCOD_IBGE'] = df_novo['GEOCOD_IBGE'].astype(str)"
   ]
  },
  {
   "cell_type": "code",
   "execution_count": null,
   "metadata": {},
   "outputs": [],
   "source": [
    "df_mapa = gpd.read_file('input/geo/br_municipios/BRMUE250GC_SIR.shp')\n",
    "df_mapa['NM_MUNICIP'] = df_mapa['NM_MUNICIP'].str.upper().apply(lambda x: unidecode(x))\n",
    "df_mapa['GEOCOD_IBGE'] = df_mapa['CD_GEOCMU']\n",
    "df_mapa.set_index('GEOCOD_IBGE', inplace=True)\n",
    "\n",
    "df_mapa_novo = pd.merge(df_mapa, df_novo, on=['GEOCOD_IBGE'])"
   ]
  },
  {
   "cell_type": "code",
   "execution_count": null,
   "metadata": {},
   "outputs": [],
   "source": [
    "df_mapa_uf = gpd.read_file('input/geo/br_unidades_da_federacao/BR_UF_2019.shp')\n",
    "\n",
    "df_novo_uf = df_novo.groupby(['sigla_uf','ideologia'])['GEOCOD_IBGE'].count().unstack().reset_index()\n",
    "df_novo_uf.fillna(0,inplace=True)\n",
    "df_novo_uf['max'] = df_novo_uf[['Centro','Direita','Esquerda', 'Esquerda >50%','Centro >50%','Direita >50%']].idxmax(axis=1)\n",
    "\n",
    "df_mapa_uf_novo = pd.merge(df_mapa_uf, df_novo_uf, left_on='SIGLA_UF', right_on='sigla_uf')\n",
    "df_mapa_uf_novo.dropna(inplace=True)"
   ]
  },
  {
   "cell_type": "code",
   "execution_count": null,
   "metadata": {},
   "outputs": [],
   "source": [
    "fig, axs = plt.subplots(1,2,figsize=(15,15))\n",
    "\n",
    "p1 = df_mapa_novo.plot(column='ideologia', cmap=ListedColormap(['navajowhite','orange','lightskyblue','dodgerblue','lightcoral','red']), legend=True, linewidth=0.2, ax=axs[0], edgecolor='black')\n",
    "p2 = df_mapa_uf_novo.plot(column='max', cmap=ListedColormap(['navajowhite','orange','red']), legend=True, linewidth=0.2, ax=axs[1], edgecolor='black')\n",
    "\n",
    "p1.set_axis_off()\n",
    "p2.set_axis_off()\n",
    "\n",
    "fig.savefig('output/brasil_vereadors_municipios_'+str(year)+'.png', dpi=300, bbox_inches = 'tight')"
   ]
  },
  {
   "cell_type": "code",
   "execution_count": null,
   "metadata": {},
   "outputs": [],
   "source": []
  }
 ],
 "metadata": {
  "kernelspec": {
   "display_name": "Python 3",
   "language": "python",
   "name": "python3"
  },
  "language_info": {
   "codemirror_mode": {
    "name": "ipython",
    "version": 3
   },
   "file_extension": ".py",
   "mimetype": "text/x-python",
   "name": "python",
   "nbconvert_exporter": "python",
   "pygments_lexer": "ipython3",
   "version": "3.7.4"
  }
 },
 "nbformat": 4,
 "nbformat_minor": 4
}
