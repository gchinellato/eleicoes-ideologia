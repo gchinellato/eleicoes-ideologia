{
 "cells": [
  {
   "cell_type": "markdown",
   "metadata": {},
   "source": [
    "# Prefeitos e Vereadores Eleits entre 2004-2020\n",
    "\n",
    "Dados normalizados, agrupados e limpados pelo código abaixo:\n",
    "https://github.com/turicas/eleicoes-brasil"
   ]
  },
  {
   "cell_type": "code",
   "execution_count": 1,
   "metadata": {},
   "outputs": [],
   "source": [
    "import pandas as pd"
   ]
  },
  {
   "cell_type": "code",
   "execution_count": 2,
   "metadata": {},
   "outputs": [],
   "source": [
    "ANO = 2020\n",
    "CARGO = 'VEREADOR'"
   ]
  },
  {
   "cell_type": "code",
   "execution_count": 3,
   "metadata": {},
   "outputs": [
    {
     "name": "stderr",
     "output_type": "stream",
     "text": [
      "C:\\Users\\guilh\\Anaconda3\\lib\\site-packages\\IPython\\core\\interactiveshell.py:3058: DtypeWarning: Columns (17) have mixed types. Specify dtype option on import or set low_memory=False.\n",
      "  interactivity=interactivity, compiler=compiler, result=result)\n",
      "C:\\Users\\guilh\\Anaconda3\\lib\\site-packages\\IPython\\core\\interactiveshell.py:3058: DtypeWarning: Columns (3) have mixed types. Specify dtype option on import or set low_memory=False.\n",
      "  interactivity=interactivity, compiler=compiler, result=result)\n"
     ]
    }
   ],
   "source": [
    "cols = ['ano','data_eleicao','totalizacao_turno','turno','codigo_municipio','nome_municipio','sigla_unidade_federativa',\n",
    "        'numero_partido','sigla_partido','composicao_legenda','cargo',\n",
    "        'nome_urna','numero_urna','numero_zona','total_votos']\n",
    "\n",
    "df_chunk = pd.read_csv('input/tse/votacao-zona.csv/votacao-zona.csv', usecols=cols, chunksize=1000000)\n",
    "\n",
    "chunk_list = []\n",
    "\n",
    "for chunk in df_chunk:  \n",
    "    chunk_filter = chunk[chunk.ano == ANO]\n",
    "    chunk_filter = chunk_filter[chunk_filter.totalizacao_turno.isin(['ELEITO', 'ELEITO POR QP', 'ELEITO POR MEDIA'])]\n",
    "    #chunk_filter = chunk_filter[chunk_filter.numero_partido == 50]\n",
    "    chunk_list.append(chunk_filter)  \n",
    "df_concat = pd.concat(chunk_list)\n",
    "\n",
    "# ordenar por data da eleicao, pois alguns municipios possuem eleicoes suplementares \n",
    "df_concat.sort_values('data_eleicao', ascending=False, inplace=True)"
   ]
  },
  {
   "cell_type": "code",
   "execution_count": 22,
   "metadata": {},
   "outputs": [],
   "source": [
    "# workaround para deletar zonas duplicadas \n",
    "df = df_concat[(df_concat.cargo == CARGO)] \\\n",
    ".groupby(['ano','codigo_municipio','numero_urna','numero_zona'])\\\n",
    ".agg({'nome_municipio':'first','sigla_unidade_federativa':'first',\n",
    "      'composicao_legenda':'first','numero_partido':'first','sigla_partido':'first',\n",
    "      'nome_urna':'first','total_votos':'first','totalizacao_turno':'first'})\n",
    "df.reset_index(inplace=True)\n",
    "\n",
    "# soma total de votos do candidato em todas as zonas eleitorais do município\n",
    "df = df \\\n",
    ".groupby(['ano','sigla_unidade_federativa','codigo_municipio','numero_urna']) \\\n",
    ".agg({'nome_municipio':'first','numero_partido':'first','sigla_partido':'first','composicao_legenda':'first',\n",
    "      'nome_urna':'first','total_votos':'sum','totalizacao_turno':'first'})\n",
    "df.reset_index(inplace=True)\n",
    "\n",
    "# alguns municipios tiveram eleicoes suplementares para prefeito, assim manter somente a primeira eleicao\n",
    "if CARGO == 'PREFEITO':\n",
    "    df.drop_duplicates('codigo_municipio', keep='first', inplace=True)"
   ]
  },
  {
   "cell_type": "code",
   "execution_count": 30,
   "metadata": {},
   "outputs": [
    {
     "data": {
      "text/plain": [
       "(3337, 11)"
      ]
     },
     "execution_count": 30,
     "metadata": {},
     "output_type": "execute_result"
    }
   ],
   "source": [
    "df.shape"
   ]
  },
  {
   "cell_type": "code",
   "execution_count": 31,
   "metadata": {},
   "outputs": [
    {
     "data": {
      "text/html": [
       "<div>\n",
       "<style scoped>\n",
       "    .dataframe tbody tr th:only-of-type {\n",
       "        vertical-align: middle;\n",
       "    }\n",
       "\n",
       "    .dataframe tbody tr th {\n",
       "        vertical-align: top;\n",
       "    }\n",
       "\n",
       "    .dataframe thead th {\n",
       "        text-align: right;\n",
       "    }\n",
       "</style>\n",
       "<table border=\"1\" class=\"dataframe\">\n",
       "  <thead>\n",
       "    <tr style=\"text-align: right;\">\n",
       "      <th></th>\n",
       "      <th>ano</th>\n",
       "      <th>sigla_unidade_federativa</th>\n",
       "      <th>codigo_municipio</th>\n",
       "      <th>numero_urna</th>\n",
       "      <th>nome_municipio</th>\n",
       "      <th>numero_partido</th>\n",
       "      <th>sigla_partido</th>\n",
       "      <th>composicao_legenda</th>\n",
       "      <th>nome_urna</th>\n",
       "      <th>total_votos</th>\n",
       "      <th>totalizacao_turno</th>\n",
       "    </tr>\n",
       "  </thead>\n",
       "  <tbody>\n",
       "    <tr>\n",
       "      <th>2163</th>\n",
       "      <td>2020</td>\n",
       "      <td>RJ</td>\n",
       "      <td>60011</td>\n",
       "      <td>50123</td>\n",
       "      <td>RIO DE JANEIRO</td>\n",
       "      <td>50</td>\n",
       "      <td>PSOL</td>\n",
       "      <td>PSOL</td>\n",
       "      <td>TARCISIO MOTTA</td>\n",
       "      <td>86243</td>\n",
       "      <td>ELEITO POR QP</td>\n",
       "    </tr>\n",
       "    <tr>\n",
       "      <th>3235</th>\n",
       "      <td>2020</td>\n",
       "      <td>SP</td>\n",
       "      <td>71072</td>\n",
       "      <td>50700</td>\n",
       "      <td>SAO PAULO</td>\n",
       "      <td>50</td>\n",
       "      <td>PSOL</td>\n",
       "      <td>PSOL</td>\n",
       "      <td>ERIKA HILTON</td>\n",
       "      <td>50508</td>\n",
       "      <td>ELEITO POR QP</td>\n",
       "    </tr>\n",
       "    <tr>\n",
       "      <th>2181</th>\n",
       "      <td>2020</td>\n",
       "      <td>RJ</td>\n",
       "      <td>60011</td>\n",
       "      <td>50500</td>\n",
       "      <td>RIO DE JANEIRO</td>\n",
       "      <td>50</td>\n",
       "      <td>PSOL</td>\n",
       "      <td>PSOL</td>\n",
       "      <td>CHICO ALENCAR</td>\n",
       "      <td>49422</td>\n",
       "      <td>ELEITO POR QP</td>\n",
       "    </tr>\n",
       "    <tr>\n",
       "      <th>3243</th>\n",
       "      <td>2020</td>\n",
       "      <td>SP</td>\n",
       "      <td>71072</td>\n",
       "      <td>50900</td>\n",
       "      <td>SAO PAULO</td>\n",
       "      <td>50</td>\n",
       "      <td>PSOL</td>\n",
       "      <td>PSOL</td>\n",
       "      <td>SILVIA DA BANCADA FEMINISTA</td>\n",
       "      <td>46267</td>\n",
       "      <td>ELEITO POR QP</td>\n",
       "    </tr>\n",
       "    <tr>\n",
       "      <th>3229</th>\n",
       "      <td>2020</td>\n",
       "      <td>SP</td>\n",
       "      <td>71072</td>\n",
       "      <td>50505</td>\n",
       "      <td>SAO PAULO</td>\n",
       "      <td>50</td>\n",
       "      <td>PSOL</td>\n",
       "      <td>PSOL</td>\n",
       "      <td>LUANA ALVES</td>\n",
       "      <td>37550</td>\n",
       "      <td>ELEITO POR QP</td>\n",
       "    </tr>\n",
       "  </tbody>\n",
       "</table>\n",
       "</div>"
      ],
      "text/plain": [
       "       ano sigla_unidade_federativa  codigo_municipio  numero_urna  \\\n",
       "2163  2020                       RJ             60011        50123   \n",
       "3235  2020                       SP             71072        50700   \n",
       "2181  2020                       RJ             60011        50500   \n",
       "3243  2020                       SP             71072        50900   \n",
       "3229  2020                       SP             71072        50505   \n",
       "\n",
       "      nome_municipio  numero_partido sigla_partido composicao_legenda  \\\n",
       "2163  RIO DE JANEIRO              50          PSOL               PSOL   \n",
       "3235       SAO PAULO              50          PSOL               PSOL   \n",
       "2181  RIO DE JANEIRO              50          PSOL               PSOL   \n",
       "3243       SAO PAULO              50          PSOL               PSOL   \n",
       "3229       SAO PAULO              50          PSOL               PSOL   \n",
       "\n",
       "                        nome_urna  total_votos totalizacao_turno  \n",
       "2163               TARCISIO MOTTA        86243     ELEITO POR QP  \n",
       "3235                 ERIKA HILTON        50508     ELEITO POR QP  \n",
       "2181                CHICO ALENCAR        49422     ELEITO POR QP  \n",
       "3243  SILVIA DA BANCADA FEMINISTA        46267     ELEITO POR QP  \n",
       "3229                  LUANA ALVES        37550     ELEITO POR QP  "
      ]
     },
     "execution_count": 31,
     "metadata": {},
     "output_type": "execute_result"
    }
   ],
   "source": [
    "df.sort_values('total_votos', ascending=False).head()"
   ]
  },
  {
   "cell_type": "code",
   "execution_count": 33,
   "metadata": {},
   "outputs": [],
   "source": [
    "#df.to_csv(f'input/tse/vereadores_psol/{ANO}.csv') "
   ]
  },
  {
   "cell_type": "code",
   "execution_count": null,
   "metadata": {},
   "outputs": [],
   "source": [
    "if CARGO == 'PREFEITO':\n",
    "    df.to_csv(f'input/tse/prefeitos_eleitos/{ANO}.csv')\n",
    "else:\n",
    "    df.to_csv(f'input/tse/vereadores_eleitos/{ANO}.csv') "
   ]
  },
  {
   "cell_type": "code",
   "execution_count": null,
   "metadata": {},
   "outputs": [],
   "source": []
  }
 ],
 "metadata": {
  "kernelspec": {
   "display_name": "Python 3",
   "language": "python",
   "name": "python3"
  },
  "language_info": {
   "codemirror_mode": {
    "name": "ipython",
    "version": 3
   },
   "file_extension": ".py",
   "mimetype": "text/x-python",
   "name": "python",
   "nbconvert_exporter": "python",
   "pygments_lexer": "ipython3",
   "version": "3.7.4"
  }
 },
 "nbformat": 4,
 "nbformat_minor": 2
}
