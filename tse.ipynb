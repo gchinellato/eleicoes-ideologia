{
 "cells": [
  {
   "cell_type": "markdown",
   "metadata": {},
   "source": [
    "# Prefeitos e Vereadores Eleits entre 2004-2020\n",
    "\n",
    "Dados normalizados, agrupados e limpados pelo código abaixo:\n",
    "https://github.com/turicas/eleicoes-brasil"
   ]
  },
  {
   "cell_type": "code",
   "execution_count": 1,
   "metadata": {},
   "outputs": [],
   "source": [
    "import pandas as pd"
   ]
  },
  {
   "cell_type": "code",
   "execution_count": 112,
   "metadata": {},
   "outputs": [],
   "source": [
    "ANO = 2020\n",
    "CARGO = 'VEREADOR'"
   ]
  },
  {
   "cell_type": "code",
   "execution_count": 113,
   "metadata": {},
   "outputs": [],
   "source": [
    "cols = ['ano','data_eleicao','totalizacao_turno','turno','codigo_municipio','nome_municipio','sigla_unidade_federativa',\n",
    "        'numero_partido','sigla_partido','composicao_legenda','cargo',\n",
    "        'nome_urna','numero_urna','numero_zona','total_votos']\n",
    "\n",
    "df_chunk = pd.read_csv('input/tse/votacao-zona.csv/votacao-zona.csv', usecols=cols, chunksize=1000000)\n",
    "\n",
    "chunk_list = []\n",
    "\n",
    "for chunk in df_chunk:  \n",
    "    chunk_filter = chunk[chunk.ano == ANO]\n",
    "    chunk_filter = chunk_filter[chunk_filter.totalizacao_turno.isin(['ELEITO', 'ELEITO POR QP', 'ELEITO POR MEDIA'])]\n",
    "    chunk_list.append(chunk_filter)  \n",
    "df_concat = pd.concat(chunk_list)\n",
    "\n",
    "# ordenar por data da eleicao, pois alguns municipios possuem eleicoes suplementares \n",
    "df_concat.sort_values('data_eleicao', ascending=False, inplace=True)"
   ]
  },
  {
   "cell_type": "code",
   "execution_count": 114,
   "metadata": {},
   "outputs": [],
   "source": [
    "# workaround para deletar zonas duplicadas \n",
    "df = df_concat[(df_concat.cargo == CARGO)] \\\n",
    ".groupby(['ano','codigo_municipio','numero_urna','numero_zona'])\\\n",
    ".agg({'nome_municipio':'first','sigla_unidade_federativa':'first',\n",
    "      'composicao_legenda':'first','numero_partido':'first','sigla_partido':'first',\n",
    "      'nome_urna':'first','total_votos':'first'})\n",
    "df.reset_index(inplace=True)\n",
    "\n",
    "# soma total de votos do candidato em todas as zonas eleitorais do município\n",
    "df = df \\\n",
    ".groupby(['ano','sigla_unidade_federativa','codigo_municipio','numero_urna']) \\\n",
    ".agg({'nome_municipio':'first','numero_partido':'first','sigla_partido':'first','composicao_legenda':'first',\n",
    "      'nome_urna':'first','total_votos':'sum'})\n",
    "df.reset_index(inplace=True)\n",
    "\n",
    "# alguns municipios tiveram eleicoes suplementares para prefeito, assim manter somente a primeira eleicao\n",
    "if CARGO == 'PREFEITO':\n",
    "    df.drop_duplicates('codigo_municipio', keep='first', inplace=True)"
   ]
  },
  {
   "cell_type": "code",
   "execution_count": 115,
   "metadata": {},
   "outputs": [
    {
     "data": {
      "text/plain": [
       "(55995, 10)"
      ]
     },
     "execution_count": 115,
     "metadata": {},
     "output_type": "execute_result"
    }
   ],
   "source": [
    "df.shape"
   ]
  },
  {
   "cell_type": "code",
   "execution_count": 116,
   "metadata": {},
   "outputs": [
    {
     "data": {
      "text/html": [
       "<div>\n",
       "<style scoped>\n",
       "    .dataframe tbody tr th:only-of-type {\n",
       "        vertical-align: middle;\n",
       "    }\n",
       "\n",
       "    .dataframe tbody tr th {\n",
       "        vertical-align: top;\n",
       "    }\n",
       "\n",
       "    .dataframe thead th {\n",
       "        text-align: right;\n",
       "    }\n",
       "</style>\n",
       "<table border=\"1\" class=\"dataframe\">\n",
       "  <thead>\n",
       "    <tr style=\"text-align: right;\">\n",
       "      <th></th>\n",
       "      <th>ano</th>\n",
       "      <th>sigla_unidade_federativa</th>\n",
       "      <th>codigo_municipio</th>\n",
       "      <th>numero_urna</th>\n",
       "      <th>nome_municipio</th>\n",
       "      <th>numero_partido</th>\n",
       "      <th>sigla_partido</th>\n",
       "      <th>composicao_legenda</th>\n",
       "      <th>nome_urna</th>\n",
       "      <th>total_votos</th>\n",
       "    </tr>\n",
       "  </thead>\n",
       "  <tbody>\n",
       "    <tr>\n",
       "      <th>53902</th>\n",
       "      <td>2020</td>\n",
       "      <td>SP</td>\n",
       "      <td>71072</td>\n",
       "      <td>13131</td>\n",
       "      <td>SAO PAULO</td>\n",
       "      <td>13</td>\n",
       "      <td>PT</td>\n",
       "      <td>PT</td>\n",
       "      <td>EDUARDO SUPLICY</td>\n",
       "      <td>167552</td>\n",
       "    </tr>\n",
       "    <tr>\n",
       "      <th>53923</th>\n",
       "      <td>2020</td>\n",
       "      <td>SP</td>\n",
       "      <td>71072</td>\n",
       "      <td>25250</td>\n",
       "      <td>SAO PAULO</td>\n",
       "      <td>25</td>\n",
       "      <td>DEM</td>\n",
       "      <td>DEM</td>\n",
       "      <td>MILTON LEITE</td>\n",
       "      <td>132716</td>\n",
       "    </tr>\n",
       "    <tr>\n",
       "      <th>53909</th>\n",
       "      <td>2020</td>\n",
       "      <td>SP</td>\n",
       "      <td>71072</td>\n",
       "      <td>15000</td>\n",
       "      <td>SAO PAULO</td>\n",
       "      <td>15</td>\n",
       "      <td>MDB</td>\n",
       "      <td>MDB</td>\n",
       "      <td>DELEGADO PALUMBO</td>\n",
       "      <td>118395</td>\n",
       "    </tr>\n",
       "    <tr>\n",
       "      <th>53947</th>\n",
       "      <td>2020</td>\n",
       "      <td>SP</td>\n",
       "      <td>71072</td>\n",
       "      <td>55070</td>\n",
       "      <td>SAO PAULO</td>\n",
       "      <td>55</td>\n",
       "      <td>PSD</td>\n",
       "      <td>PSD</td>\n",
       "      <td>FELIPE BECARI</td>\n",
       "      <td>98717</td>\n",
       "    </tr>\n",
       "    <tr>\n",
       "      <th>37469</th>\n",
       "      <td>2020</td>\n",
       "      <td>RJ</td>\n",
       "      <td>60011</td>\n",
       "      <td>50123</td>\n",
       "      <td>RIO DE JANEIRO</td>\n",
       "      <td>50</td>\n",
       "      <td>PSOL</td>\n",
       "      <td>PSOL</td>\n",
       "      <td>TARCISIO MOTTA</td>\n",
       "      <td>86243</td>\n",
       "    </tr>\n",
       "  </tbody>\n",
       "</table>\n",
       "</div>"
      ],
      "text/plain": [
       "        ano sigla_unidade_federativa  codigo_municipio  numero_urna  \\\n",
       "53902  2020                       SP             71072        13131   \n",
       "53923  2020                       SP             71072        25250   \n",
       "53909  2020                       SP             71072        15000   \n",
       "53947  2020                       SP             71072        55070   \n",
       "37469  2020                       RJ             60011        50123   \n",
       "\n",
       "       nome_municipio  numero_partido sigla_partido composicao_legenda  \\\n",
       "53902       SAO PAULO              13            PT                 PT   \n",
       "53923       SAO PAULO              25           DEM                DEM   \n",
       "53909       SAO PAULO              15           MDB                MDB   \n",
       "53947       SAO PAULO              55           PSD                PSD   \n",
       "37469  RIO DE JANEIRO              50          PSOL               PSOL   \n",
       "\n",
       "              nome_urna  total_votos  \n",
       "53902   EDUARDO SUPLICY       167552  \n",
       "53923      MILTON LEITE       132716  \n",
       "53909  DELEGADO PALUMBO       118395  \n",
       "53947     FELIPE BECARI        98717  \n",
       "37469    TARCISIO MOTTA        86243  "
      ]
     },
     "execution_count": 116,
     "metadata": {},
     "output_type": "execute_result"
    }
   ],
   "source": [
    "df.sort_values('total_votos', ascending=False).head()"
   ]
  },
  {
   "cell_type": "code",
   "execution_count": 117,
   "metadata": {},
   "outputs": [],
   "source": [
    "if CARGO == 'PREFEITO':\n",
    "    df.to_csv(f'input/tse/prefeitos_eleitos/{ANO}.csv')\n",
    "else:\n",
    "    df.to_csv(f'input/tse/vereadores_eleitos/{ANO}.csv') "
   ]
  },
  {
   "cell_type": "code",
   "execution_count": null,
   "metadata": {},
   "outputs": [],
   "source": []
  }
 ],
 "metadata": {
  "kernelspec": {
   "display_name": "Python 3",
   "language": "python",
   "name": "python3"
  },
  "language_info": {
   "codemirror_mode": {
    "name": "ipython",
    "version": 3
   },
   "file_extension": ".py",
   "mimetype": "text/x-python",
   "name": "python",
   "nbconvert_exporter": "python",
   "pygments_lexer": "ipython3",
   "version": "3.7.4"
  }
 },
 "nbformat": 4,
 "nbformat_minor": 2
}
