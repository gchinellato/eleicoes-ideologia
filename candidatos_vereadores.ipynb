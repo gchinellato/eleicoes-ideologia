{
 "cells": [
  {
   "cell_type": "code",
   "execution_count": 2,
   "metadata": {},
   "outputs": [],
   "source": [
    "import pandas as pd\n",
    "import numpy as np\n",
    "import matplotlib.pyplot as plt\n",
    "from unidecode import unidecode\n",
    "import plotly.graph_objects as go\n",
    "\n",
    "%matplotlib inline"
   ]
  },
  {
   "cell_type": "markdown",
   "metadata": {},
   "source": [
    "# Candidatos a vereadores por partido"
   ]
  },
  {
   "cell_type": "code",
   "execution_count": 168,
   "metadata": {},
   "outputs": [],
   "source": [
    "df = pd.read_csv('input/tse/vereadores_total/2020.csv').drop(['Unnamed: 0'],axis=1)"
   ]
  },
  {
   "cell_type": "code",
   "execution_count": 170,
   "metadata": {},
   "outputs": [],
   "source": [
    "df.sigla_partido.replace('PRN','PTC', inplace=True)\n",
    "df.sigla_partido.replace('PPB','PP', inplace=True)\n",
    "df.sigla_partido.replace('PFL','DEM', inplace=True)\n",
    "df.sigla_partido.replace('PTN','PODE', inplace=True)\n",
    "df.sigla_partido.replace('PT DO B','AVT', inplace=True)\n",
    "df.sigla_partido.replace('PEN','PATRI', inplace=True)\n",
    "df.sigla_partido.replace('PMDB','MDB', inplace=True)\n",
    "df.sigla_partido.replace('PSDC','DC', inplace=True)\n",
    "df.sigla_partido.replace('PPS','CDD', inplace=True)\n",
    "df.sigla_partido.replace('PR','PL', inplace=True)\n",
    "\n",
    "df.sigla_partido.replace('REPUBLICANOS','PRB', inplace=True)\n",
    "df.sigla_partido.replace('AVANTE','AVT', inplace=True)\n",
    "df.sigla_partido.replace('CIDADANIA','CDD', inplace=True)\n",
    "df.sigla_partido.replace('SOLIDARIEDADE','SD', inplace=True)\n",
    "df.sigla_partido.replace('PATRIOTA','PATRI', inplace=True)"
   ]
  },
  {
   "cell_type": "markdown",
   "metadata": {},
   "source": [
    "# Mapa ideológico dos partidos"
   ]
  },
  {
   "cell_type": "code",
   "execution_count": 171,
   "metadata": {},
   "outputs": [],
   "source": [
    "mapa_ideologico = {'PCB':'Esquerda',\n",
    "                    'PT':'Esquerda',\n",
    "                    'UP':'Esquerda',\n",
    "                    'PSOL':'Esquerda',\n",
    "                    'PSTU':'Esquerda',\n",
    "                    'PC DO B':'Esquerda',\n",
    "                    'PCO':'Esquerda',\n",
    "                    'PDT':'Esquerda',\n",
    "                    'REDE':'Esquerda',\n",
    "                    'PSB':'Esquerda',\n",
    "                    'PV':'Esquerda',\n",
    "                    'SD':'Centro',\n",
    "                    'PROS':'Centro',\n",
    "                    'PTB':'Centro',\n",
    "                    'PRB':'Centro',\n",
    "                    'PP':'Centro',\n",
    "                    'PMN':'Centro',\n",
    "                    'PMB':'Centro',\n",
    "                    'MDB':'Centro',\n",
    "                    'PSDB':'Centro',\n",
    "                    'CDD':'Centro',\n",
    "                    'PSD':'Centro',\n",
    "                    'DEM':'Direita',\n",
    "                    'PL':'Direita',\n",
    "                    'DC':'Direita',\n",
    "                    'AVT':'Direita',\n",
    "                    'PSC':'Direita',\n",
    "                    'PODE':'Direita',\n",
    "                    'PATRI':'Direita',\n",
    "                    'NOVO':'Direita',\n",
    "                    'PRTB':'Direita',\n",
    "                    'PSL':'Direita',\n",
    "                    'PTC':'Direita',\n",
    "                    'PGT':'Esquerda',\n",
    "                    'PST':'Esquerda',\n",
    "                    'PHS':'Direita',\n",
    "                    'PRP':'Direita',\n",
    "                    'PPL':'Esquerda',\n",
    "                    'PAN':'Centro',\n",
    "                    'PRONA':'Direita'}"
   ]
  },
  {
   "cell_type": "markdown",
   "metadata": {},
   "source": [
    "# Regiões e capitais"
   ]
  },
  {
   "cell_type": "code",
   "execution_count": 172,
   "metadata": {},
   "outputs": [],
   "source": [
    "sigla_estado = {'AC':'Acre',\n",
    "                'AL':'Alagoas',\n",
    "                'AP':'Amapa',\n",
    "                'AM':'Amazonas',\n",
    "                'BA':'Bahia',\n",
    "                'CE':'Ceara',\n",
    "                'DF':'Distrito Federal',\n",
    "                'ES':'Espirito Santo',\n",
    "                'GO':'Goias',\n",
    "                'MA':'Maranhao',\n",
    "                'MT':'Mato Grosso',\n",
    "                'MS':'Mato Grosso do Sul',\n",
    "                'MG':'Minas Gerais',\n",
    "                'PA':'Para',\n",
    "                'PB':'Paraiba',\n",
    "                'PR':'Parana',\n",
    "                'PE':'Pernambuco',\n",
    "                'PI':'Piaui',\n",
    "                'RJ':'Rio de Janeiro',\n",
    "                'RN':'Rio Grande do Norte',\n",
    "                'RS':'Rio Grande do Sul',\n",
    "                'RO':'Rondonia',\n",
    "                'RR':'Roraima',\n",
    "                'SC':'Santa Catarina',\n",
    "                'SP':'Sao Paulo',\n",
    "                'SE':'Sergipe',\n",
    "                'TO':'Tocantins'}"
   ]
  },
  {
   "cell_type": "code",
   "execution_count": 173,
   "metadata": {},
   "outputs": [],
   "source": [
    "capitais = {'AC':'Rio Branco',\n",
    "            'AL':'Maceio',\n",
    "            'AP':'Macapa',\n",
    "            'AM':'Manaus',\n",
    "            'BA':'Salvador',\n",
    "            'CE':'Fortaleza',\n",
    "            'DF':'Brasilia',\n",
    "            'ES':'Vitoria',\n",
    "            'GO':'Goiania',\n",
    "            'MA':'Sao Luis',\n",
    "            'MT':'Cuiaba',\n",
    "            'MS':'Campo Grande',\n",
    "            'MG':'Belo Horizonte',\n",
    "            'PA':'Belem',\n",
    "            'PB':'Joao Pessoa',\n",
    "            'PR':'Curitiba',\n",
    "            'PE':'Recife',\n",
    "            'PI':'Teresina',\n",
    "            'RJ':'Rio de Janeiro',\n",
    "            'RN':'Natal',\n",
    "            'RS':'Porto Alegre',\n",
    "            'RO':'Porto Velho',\n",
    "            'RR':'Boa Vista',\n",
    "            'SC':'Florianopolis',\n",
    "            'SP':'Sao Paulo',\n",
    "            'SE':'Aracaju',\n",
    "            'TO':'Palmas'}\n",
    "capitais = dict((k.upper(), v.upper()) for k, v in capitais.items())"
   ]
  },
  {
   "cell_type": "code",
   "execution_count": 174,
   "metadata": {},
   "outputs": [],
   "source": [
    "df['capitais'] = pd.Series(list(zip(df.sigla_unidade_federativa, df.nome_municipio))).isin(capitais.items())"
   ]
  },
  {
   "cell_type": "code",
   "execution_count": 175,
   "metadata": {},
   "outputs": [],
   "source": [
    "regioes = {'Norte':['AC','AP','AM','PA','RO','RR','TO'],\n",
    "           'Nordeste':['AL','BA','CE','MA','PB','PE','PI','RN','SE'],\n",
    "           'Centro-Oeste':['GO','MT','MS'],\n",
    "           'Sudeste':['ES','MG','RJ','SP'],\n",
    "           'Sul':['PR','SC','RS']}"
   ]
  },
  {
   "cell_type": "code",
   "execution_count": 176,
   "metadata": {},
   "outputs": [],
   "source": [
    "df['regiao'] = df.sigla_unidade_federativa.apply(lambda x: ''.join([k for k, v in regioes.items() if x in v]))"
   ]
  },
  {
   "cell_type": "markdown",
   "metadata": {},
   "source": [
    "# Lista de população, tamanho e densidade por município"
   ]
  },
  {
   "cell_type": "code",
   "execution_count": 177,
   "metadata": {},
   "outputs": [],
   "source": [
    "url = 'https://pt.wikipedia.org/wiki/Lista_de_munic%C3%ADpios_do_Brasil_por_popula%C3%A7%C3%A3o_(2020)'\n",
    "municipio_pop = pd.read_html(url, thousands=' ')[0]\n",
    "\n",
    "# eliminar espaço para converter para int\n",
    "municipio_pop['População'] = municipio_pop['População'].str.replace('\\D', '').astype(int)\n",
    "\n",
    "# converter estado e municipio para sem acentos e maiusculo\n",
    "municipio_pop['Unidade federativa'] = municipio_pop['Unidade federativa'].str.upper().apply(lambda x: unidecode(x))\n",
    "municipio_pop['Município'] = municipio_pop['Município'].str.upper().apply(lambda x: unidecode(x))\n",
    "\n",
    "# abreviar UF\n",
    "municipio_pop['sigla_uf'] = municipio_pop['Unidade federativa'].str.upper().apply(lambda x: [k for k, v in sigla_estado.items() if (unidecode(v.upper()) == x)])\n",
    "municipio_pop = municipio_pop.explode('sigla_uf')\n",
    "\n",
    "municipio_pop.drop('Posição', axis=1, inplace=True)\n",
    "municipio_pop.set_index('Código IBGE', inplace=True)"
   ]
  },
  {
   "cell_type": "code",
   "execution_count": 178,
   "metadata": {},
   "outputs": [],
   "source": [
    "url = 'https://pt.m.wikipedia.org/wiki/Lista_de_munic%C3%ADpios_brasileiros_por_%C3%A1rea_decrescente'\n",
    "municipio_km = pd.read_html(url, thousands=' ')[0]\n",
    "\n",
    "municipio_km['Área (km²)'] = municipio_km['Área (km²)'].str.replace(',','.').str.replace(u'\\xa0', u'').astype(float)\n",
    "municipio_km.drop(['Posição','Município', 'Unidade federativa'], axis=1, inplace=True)\n",
    "municipio_km.rename(columns={'Código do IBGE':'Código IBGE'}, inplace=True)\n",
    "municipio_km.set_index('Código IBGE', inplace=True)"
   ]
  },
  {
   "cell_type": "code",
   "execution_count": 179,
   "metadata": {},
   "outputs": [],
   "source": [
    "density_label = ['0-5','5-10','10-20','20-50','50-100','100-200','200-20k']\n",
    "\n",
    "def agrupar_por_densidade(den):\n",
    "    if den >= 0 and den < 5:\n",
    "        return 0\n",
    "    elif den >= 5 and den < 10:\n",
    "        return 1\n",
    "    elif den >= 10 and den < 20:\n",
    "        return 2\n",
    "    elif den >= 20 and den < 50:\n",
    "        return 3\n",
    "    elif den >= 50 and den < 100:\n",
    "        return 4\n",
    "    elif den >= 100 and den < 200:\n",
    "        return 5\n",
    "    elif den >= 200 and den < 20000:\n",
    "        return 6\n",
    "    else:\n",
    "        return 'other'\n",
    "    \n",
    "municipios = pd.merge(municipio_pop, municipio_km, on='Código IBGE')\n",
    "municipios['densidade'] = municipios['População'] / municipios['Área (km²)']\n",
    "municipios['grupo_densidade'] = municipios.apply(lambda x : agrupar_por_densidade(x.densidade), axis=1)"
   ]
  },
  {
   "cell_type": "code",
   "execution_count": 180,
   "metadata": {},
   "outputs": [],
   "source": [
    "# Obter tabela de correspondencia entre codigo de municipio do IBGE e TSE\n",
    "link = 'https://raw.githubusercontent.com/estadao/como-votou-sua-vizinhanca/master/data/votos/correspondencia-tse-ibge.csv'\n",
    "df_equivalencia = pd.read_csv(link)\n",
    "df_equivalencia.set_index('COD_TSE', drop=False, inplace=True)\n",
    "df_equivalencia.drop(['chave','NOME','UF'], axis=1, inplace=True)"
   ]
  },
  {
   "cell_type": "code",
   "execution_count": 181,
   "metadata": {},
   "outputs": [],
   "source": [
    "df.set_index('codigo_municipio', drop=False, inplace=True)\n",
    "df = df.join(df_equivalencia)"
   ]
  },
  {
   "cell_type": "code",
   "execution_count": 182,
   "metadata": {},
   "outputs": [],
   "source": [
    "df.set_index('GEOCOD_IBGE', drop=False, inplace=True)\n",
    "df = df.join(municipios[['População','densidade','grupo_densidade']])"
   ]
  },
  {
   "cell_type": "code",
   "execution_count": 183,
   "metadata": {},
   "outputs": [],
   "source": [
    "# Obter tabela latitude e longitude para municipios\n",
    "link = 'https://raw.githubusercontent.com/kelvins/Municipios-Brasileiros/main/csv/municipios.csv'\n",
    "df_lat_long = pd.read_csv(link)\n",
    "df_lat_long.set_index('codigo_ibge', inplace=True)\n",
    "df_lat_long.drop(['nome','capital','codigo_uf'], axis=1, inplace=True)"
   ]
  },
  {
   "cell_type": "code",
   "execution_count": 184,
   "metadata": {},
   "outputs": [],
   "source": [
    "df = df.join(df_lat_long)"
   ]
  },
  {
   "cell_type": "markdown",
   "metadata": {},
   "source": [
    "# Candidatos por tamanho do município"
   ]
  },
  {
   "cell_type": "code",
   "execution_count": 185,
   "metadata": {},
   "outputs": [],
   "source": [
    "GRANDE = 500000\n",
    "PEQUENO = 100000\n",
    "ELEITO = ['ELEITO','ELEITO POR MEDIA','ELEITO POR QP']"
   ]
  },
  {
   "cell_type": "code",
   "execution_count": 186,
   "metadata": {},
   "outputs": [],
   "source": [
    "df_out = pd.DataFrame()\n",
    "for partido in df.sigla_partido.unique():\n",
    "    d = df[df.sigla_partido == partido]\n",
    "\n",
    "    row = pd.Series({'cand_total':d.shape[0],\n",
    "                     'cand_total_ele':d[(d.totalizacao_turno.isin(ELEITO))].shape[0],\n",
    "                     'cand_cap_grandes':d[(d.capitais == True) & (d['População'] >= GRANDE)].shape[0],\n",
    "                     'cand_cap_grandes_ele':d[(d.capitais == True) & (d['População'] >= GRANDE) & (d.totalizacao_turno.isin(ELEITO))].shape[0],\n",
    "                     'cand_outras_grandes':d[(d.capitais == False) & (d['População'] >= GRANDE)].shape[0],\n",
    "                     'cand_outras_grandes_ele':d[(d.capitais == False) & (d['População'] >= GRANDE) & (d.totalizacao_turno.isin(ELEITO))].shape[0],\n",
    "                     'cand_cap_medias':d[(d.capitais == True) & (d['População'] >= PEQUENO) & (d['População'] < GRANDE)].shape[0],\n",
    "                     'cand_cap_medias_ele':d[(d.capitais == True) & (d['População'] >= PEQUENO) & (d['População'] < GRANDE) & (d.totalizacao_turno.isin(ELEITO))].shape[0],\n",
    "                     'cand_medias':d[(d.capitais == False) & (d['População'] >= PEQUENO) & (d['População'] < GRANDE)].shape[0],\n",
    "                     'cand_medias_ele':d[(d.capitais == False) & (d['População'] >= PEQUENO) & (d['População'] < GRANDE) & (d.totalizacao_turno.isin(ELEITO))].shape[0],\n",
    "                     'cand_pequenas':d[d['População'] < PEQUENO].shape[0],\n",
    "                     'cand_pequenas_ele':d[(d['População'] < PEQUENO) & (d.totalizacao_turno.isin(ELEITO))].shape[0]},\n",
    "                     name=partido)\n",
    "    df_out = df_out.append(row)"
   ]
  },
  {
   "cell_type": "code",
   "execution_count": 187,
   "metadata": {},
   "outputs": [
    {
     "data": {
      "text/html": [
       "<div>\n",
       "<style scoped>\n",
       "    .dataframe tbody tr th:only-of-type {\n",
       "        vertical-align: middle;\n",
       "    }\n",
       "\n",
       "    .dataframe tbody tr th {\n",
       "        vertical-align: top;\n",
       "    }\n",
       "\n",
       "    .dataframe thead th {\n",
       "        text-align: right;\n",
       "    }\n",
       "</style>\n",
       "<table border=\"1\" class=\"dataframe\">\n",
       "  <thead>\n",
       "    <tr style=\"text-align: right;\">\n",
       "      <th></th>\n",
       "      <th>cand_cap_grandes</th>\n",
       "      <th>cand_cap_grandes_ele</th>\n",
       "      <th>cand_cap_medias</th>\n",
       "      <th>cand_cap_medias_ele</th>\n",
       "      <th>cand_medias</th>\n",
       "      <th>cand_medias_ele</th>\n",
       "      <th>cand_outras_grandes</th>\n",
       "      <th>cand_outras_grandes_ele</th>\n",
       "      <th>cand_pequenas</th>\n",
       "      <th>cand_pequenas_ele</th>\n",
       "      <th>cand_total</th>\n",
       "      <th>cand_total_ele</th>\n",
       "    </tr>\n",
       "  </thead>\n",
       "  <tbody>\n",
       "    <tr>\n",
       "      <th>PP</th>\n",
       "      <td>620.0</td>\n",
       "      <td>31.0</td>\n",
       "      <td>55.0</td>\n",
       "      <td>4.0</td>\n",
       "      <td>3562.0</td>\n",
       "      <td>266.0</td>\n",
       "      <td>586.0</td>\n",
       "      <td>31.0</td>\n",
       "      <td>27785.0</td>\n",
       "      <td>5840.0</td>\n",
       "      <td>32608.0</td>\n",
       "      <td>6172.0</td>\n",
       "    </tr>\n",
       "    <tr>\n",
       "      <th>PT</th>\n",
       "      <td>636.0</td>\n",
       "      <td>41.0</td>\n",
       "      <td>64.0</td>\n",
       "      <td>2.0</td>\n",
       "      <td>3787.0</td>\n",
       "      <td>155.0</td>\n",
       "      <td>621.0</td>\n",
       "      <td>34.0</td>\n",
       "      <td>21059.0</td>\n",
       "      <td>2343.0</td>\n",
       "      <td>26167.0</td>\n",
       "      <td>2575.0</td>\n",
       "    </tr>\n",
       "    <tr>\n",
       "      <th>PTB</th>\n",
       "      <td>693.0</td>\n",
       "      <td>18.0</td>\n",
       "      <td>76.0</td>\n",
       "      <td>2.0</td>\n",
       "      <td>3470.0</td>\n",
       "      <td>181.0</td>\n",
       "      <td>523.0</td>\n",
       "      <td>17.0</td>\n",
       "      <td>15057.0</td>\n",
       "      <td>2157.0</td>\n",
       "      <td>19819.0</td>\n",
       "      <td>2375.0</td>\n",
       "    </tr>\n",
       "    <tr>\n",
       "      <th>MDB</th>\n",
       "      <td>639.0</td>\n",
       "      <td>33.0</td>\n",
       "      <td>73.0</td>\n",
       "      <td>5.0</td>\n",
       "      <td>4100.0</td>\n",
       "      <td>308.0</td>\n",
       "      <td>659.0</td>\n",
       "      <td>48.0</td>\n",
       "      <td>32472.0</td>\n",
       "      <td>6715.0</td>\n",
       "      <td>37943.0</td>\n",
       "      <td>7109.0</td>\n",
       "    </tr>\n",
       "    <tr>\n",
       "      <th>PODE</th>\n",
       "      <td>679.0</td>\n",
       "      <td>30.0</td>\n",
       "      <td>94.0</td>\n",
       "      <td>3.0</td>\n",
       "      <td>3615.0</td>\n",
       "      <td>190.0</td>\n",
       "      <td>556.0</td>\n",
       "      <td>16.0</td>\n",
       "      <td>12243.0</td>\n",
       "      <td>1211.0</td>\n",
       "      <td>17187.0</td>\n",
       "      <td>1450.0</td>\n",
       "    </tr>\n",
       "    <tr>\n",
       "      <th>DEM</th>\n",
       "      <td>696.0</td>\n",
       "      <td>39.0</td>\n",
       "      <td>68.0</td>\n",
       "      <td>3.0</td>\n",
       "      <td>3916.0</td>\n",
       "      <td>269.0</td>\n",
       "      <td>618.0</td>\n",
       "      <td>26.0</td>\n",
       "      <td>22843.0</td>\n",
       "      <td>3850.0</td>\n",
       "      <td>28141.0</td>\n",
       "      <td>4187.0</td>\n",
       "    </tr>\n",
       "    <tr>\n",
       "      <th>PSB</th>\n",
       "      <td>651.0</td>\n",
       "      <td>30.0</td>\n",
       "      <td>86.0</td>\n",
       "      <td>6.0</td>\n",
       "      <td>3365.0</td>\n",
       "      <td>173.0</td>\n",
       "      <td>535.0</td>\n",
       "      <td>20.0</td>\n",
       "      <td>18019.0</td>\n",
       "      <td>2667.0</td>\n",
       "      <td>22656.0</td>\n",
       "      <td>2896.0</td>\n",
       "    </tr>\n",
       "    <tr>\n",
       "      <th>PSD</th>\n",
       "      <td>645.0</td>\n",
       "      <td>38.0</td>\n",
       "      <td>77.0</td>\n",
       "      <td>4.0</td>\n",
       "      <td>4394.0</td>\n",
       "      <td>327.0</td>\n",
       "      <td>667.0</td>\n",
       "      <td>29.0</td>\n",
       "      <td>27836.0</td>\n",
       "      <td>5104.0</td>\n",
       "      <td>33619.0</td>\n",
       "      <td>5502.0</td>\n",
       "    </tr>\n",
       "    <tr>\n",
       "      <th>PSDB</th>\n",
       "      <td>652.0</td>\n",
       "      <td>34.0</td>\n",
       "      <td>94.0</td>\n",
       "      <td>5.0</td>\n",
       "      <td>3701.0</td>\n",
       "      <td>317.0</td>\n",
       "      <td>700.0</td>\n",
       "      <td>49.0</td>\n",
       "      <td>22789.0</td>\n",
       "      <td>3865.0</td>\n",
       "      <td>27936.0</td>\n",
       "      <td>4270.0</td>\n",
       "    </tr>\n",
       "    <tr>\n",
       "      <th>PATRI</th>\n",
       "      <td>650.0</td>\n",
       "      <td>22.0</td>\n",
       "      <td>100.0</td>\n",
       "      <td>2.0</td>\n",
       "      <td>3058.0</td>\n",
       "      <td>86.0</td>\n",
       "      <td>629.0</td>\n",
       "      <td>18.0</td>\n",
       "      <td>7395.0</td>\n",
       "      <td>565.0</td>\n",
       "      <td>11832.0</td>\n",
       "      <td>693.0</td>\n",
       "    </tr>\n",
       "    <tr>\n",
       "      <th>SD</th>\n",
       "      <td>648.0</td>\n",
       "      <td>12.0</td>\n",
       "      <td>73.0</td>\n",
       "      <td>4.0</td>\n",
       "      <td>3172.0</td>\n",
       "      <td>125.0</td>\n",
       "      <td>586.0</td>\n",
       "      <td>13.0</td>\n",
       "      <td>9833.0</td>\n",
       "      <td>1137.0</td>\n",
       "      <td>14312.0</td>\n",
       "      <td>1291.0</td>\n",
       "    </tr>\n",
       "    <tr>\n",
       "      <th>PRB</th>\n",
       "      <td>806.0</td>\n",
       "      <td>39.0</td>\n",
       "      <td>71.0</td>\n",
       "      <td>6.0</td>\n",
       "      <td>4739.0</td>\n",
       "      <td>277.0</td>\n",
       "      <td>661.0</td>\n",
       "      <td>33.0</td>\n",
       "      <td>18137.0</td>\n",
       "      <td>2143.0</td>\n",
       "      <td>24414.0</td>\n",
       "      <td>2498.0</td>\n",
       "    </tr>\n",
       "    <tr>\n",
       "      <th>PDT</th>\n",
       "      <td>730.0</td>\n",
       "      <td>36.0</td>\n",
       "      <td>77.0</td>\n",
       "      <td>5.0</td>\n",
       "      <td>3778.0</td>\n",
       "      <td>193.0</td>\n",
       "      <td>623.0</td>\n",
       "      <td>21.0</td>\n",
       "      <td>18953.0</td>\n",
       "      <td>3071.0</td>\n",
       "      <td>24161.0</td>\n",
       "      <td>3326.0</td>\n",
       "    </tr>\n",
       "    <tr>\n",
       "      <th>PSL</th>\n",
       "      <td>777.0</td>\n",
       "      <td>15.0</td>\n",
       "      <td>108.0</td>\n",
       "      <td>5.0</td>\n",
       "      <td>4000.0</td>\n",
       "      <td>126.0</td>\n",
       "      <td>650.0</td>\n",
       "      <td>14.0</td>\n",
       "      <td>12592.0</td>\n",
       "      <td>982.0</td>\n",
       "      <td>18127.0</td>\n",
       "      <td>1142.0</td>\n",
       "    </tr>\n",
       "    <tr>\n",
       "      <th>PSC</th>\n",
       "      <td>711.0</td>\n",
       "      <td>19.0</td>\n",
       "      <td>83.0</td>\n",
       "      <td>2.0</td>\n",
       "      <td>3054.0</td>\n",
       "      <td>154.0</td>\n",
       "      <td>589.0</td>\n",
       "      <td>21.0</td>\n",
       "      <td>10717.0</td>\n",
       "      <td>1246.0</td>\n",
       "      <td>15154.0</td>\n",
       "      <td>1442.0</td>\n",
       "    </tr>\n",
       "    <tr>\n",
       "      <th>DC</th>\n",
       "      <td>300.0</td>\n",
       "      <td>5.0</td>\n",
       "      <td>73.0</td>\n",
       "      <td>1.0</td>\n",
       "      <td>1432.0</td>\n",
       "      <td>37.0</td>\n",
       "      <td>355.0</td>\n",
       "      <td>6.0</td>\n",
       "      <td>1617.0</td>\n",
       "      <td>63.0</td>\n",
       "      <td>3777.0</td>\n",
       "      <td>112.0</td>\n",
       "    </tr>\n",
       "    <tr>\n",
       "      <th>PROS</th>\n",
       "      <td>541.0</td>\n",
       "      <td>13.0</td>\n",
       "      <td>68.0</td>\n",
       "      <td>1.0</td>\n",
       "      <td>2338.0</td>\n",
       "      <td>79.0</td>\n",
       "      <td>356.0</td>\n",
       "      <td>10.0</td>\n",
       "      <td>6450.0</td>\n",
       "      <td>612.0</td>\n",
       "      <td>9753.0</td>\n",
       "      <td>715.0</td>\n",
       "    </tr>\n",
       "    <tr>\n",
       "      <th>PV</th>\n",
       "      <td>589.0</td>\n",
       "      <td>11.0</td>\n",
       "      <td>82.0</td>\n",
       "      <td>2.0</td>\n",
       "      <td>2397.0</td>\n",
       "      <td>95.0</td>\n",
       "      <td>523.0</td>\n",
       "      <td>12.0</td>\n",
       "      <td>6678.0</td>\n",
       "      <td>665.0</td>\n",
       "      <td>10269.0</td>\n",
       "      <td>785.0</td>\n",
       "    </tr>\n",
       "    <tr>\n",
       "      <th>PL</th>\n",
       "      <td>631.0</td>\n",
       "      <td>22.0</td>\n",
       "      <td>52.0</td>\n",
       "      <td>1.0</td>\n",
       "      <td>3564.0</td>\n",
       "      <td>241.0</td>\n",
       "      <td>649.0</td>\n",
       "      <td>31.0</td>\n",
       "      <td>18974.0</td>\n",
       "      <td>3031.0</td>\n",
       "      <td>23870.0</td>\n",
       "      <td>3326.0</td>\n",
       "    </tr>\n",
       "    <tr>\n",
       "      <th>AVT</th>\n",
       "      <td>634.0</td>\n",
       "      <td>19.0</td>\n",
       "      <td>52.0</td>\n",
       "      <td>1.0</td>\n",
       "      <td>2937.0</td>\n",
       "      <td>106.0</td>\n",
       "      <td>538.0</td>\n",
       "      <td>15.0</td>\n",
       "      <td>8558.0</td>\n",
       "      <td>885.0</td>\n",
       "      <td>12719.0</td>\n",
       "      <td>1026.0</td>\n",
       "    </tr>\n",
       "    <tr>\n",
       "      <th>PRTB</th>\n",
       "      <td>501.0</td>\n",
       "      <td>8.0</td>\n",
       "      <td>59.0</td>\n",
       "      <td>1.0</td>\n",
       "      <td>1825.0</td>\n",
       "      <td>37.0</td>\n",
       "      <td>452.0</td>\n",
       "      <td>8.0</td>\n",
       "      <td>3088.0</td>\n",
       "      <td>148.0</td>\n",
       "      <td>5925.0</td>\n",
       "      <td>202.0</td>\n",
       "    </tr>\n",
       "    <tr>\n",
       "      <th>PMN</th>\n",
       "      <td>462.0</td>\n",
       "      <td>7.0</td>\n",
       "      <td>22.0</td>\n",
       "      <td>0.0</td>\n",
       "      <td>1165.0</td>\n",
       "      <td>20.0</td>\n",
       "      <td>364.0</td>\n",
       "      <td>2.0</td>\n",
       "      <td>1977.0</td>\n",
       "      <td>154.0</td>\n",
       "      <td>3990.0</td>\n",
       "      <td>183.0</td>\n",
       "    </tr>\n",
       "    <tr>\n",
       "      <th>PSTU</th>\n",
       "      <td>37.0</td>\n",
       "      <td>0.0</td>\n",
       "      <td>0.0</td>\n",
       "      <td>0.0</td>\n",
       "      <td>22.0</td>\n",
       "      <td>0.0</td>\n",
       "      <td>16.0</td>\n",
       "      <td>0.0</td>\n",
       "      <td>17.0</td>\n",
       "      <td>0.0</td>\n",
       "      <td>92.0</td>\n",
       "      <td>0.0</td>\n",
       "    </tr>\n",
       "    <tr>\n",
       "      <th>REDE</th>\n",
       "      <td>356.0</td>\n",
       "      <td>4.0</td>\n",
       "      <td>38.0</td>\n",
       "      <td>1.0</td>\n",
       "      <td>1378.0</td>\n",
       "      <td>22.0</td>\n",
       "      <td>289.0</td>\n",
       "      <td>4.0</td>\n",
       "      <td>1951.0</td>\n",
       "      <td>108.0</td>\n",
       "      <td>4012.0</td>\n",
       "      <td>139.0</td>\n",
       "    </tr>\n",
       "    <tr>\n",
       "      <th>CDD</th>\n",
       "      <td>572.0</td>\n",
       "      <td>19.0</td>\n",
       "      <td>87.0</td>\n",
       "      <td>5.0</td>\n",
       "      <td>2941.0</td>\n",
       "      <td>162.0</td>\n",
       "      <td>523.0</td>\n",
       "      <td>19.0</td>\n",
       "      <td>10592.0</td>\n",
       "      <td>1342.0</td>\n",
       "      <td>14715.0</td>\n",
       "      <td>1547.0</td>\n",
       "    </tr>\n",
       "    <tr>\n",
       "      <th>PSOL</th>\n",
       "      <td>402.0</td>\n",
       "      <td>29.0</td>\n",
       "      <td>31.0</td>\n",
       "      <td>1.0</td>\n",
       "      <td>1025.0</td>\n",
       "      <td>8.0</td>\n",
       "      <td>288.0</td>\n",
       "      <td>11.0</td>\n",
       "      <td>1591.0</td>\n",
       "      <td>33.0</td>\n",
       "      <td>3337.0</td>\n",
       "      <td>82.0</td>\n",
       "    </tr>\n",
       "    <tr>\n",
       "      <th>PC DO B</th>\n",
       "      <td>716.0</td>\n",
       "      <td>12.0</td>\n",
       "      <td>47.0</td>\n",
       "      <td>0.0</td>\n",
       "      <td>1934.0</td>\n",
       "      <td>46.0</td>\n",
       "      <td>461.0</td>\n",
       "      <td>4.0</td>\n",
       "      <td>5516.0</td>\n",
       "      <td>609.0</td>\n",
       "      <td>8674.0</td>\n",
       "      <td>671.0</td>\n",
       "    </tr>\n",
       "    <tr>\n",
       "      <th>PCB</th>\n",
       "      <td>25.0</td>\n",
       "      <td>0.0</td>\n",
       "      <td>1.0</td>\n",
       "      <td>0.0</td>\n",
       "      <td>25.0</td>\n",
       "      <td>0.0</td>\n",
       "      <td>2.0</td>\n",
       "      <td>0.0</td>\n",
       "      <td>1.0</td>\n",
       "      <td>0.0</td>\n",
       "      <td>54.0</td>\n",
       "      <td>0.0</td>\n",
       "    </tr>\n",
       "    <tr>\n",
       "      <th>PCO</th>\n",
       "      <td>11.0</td>\n",
       "      <td>0.0</td>\n",
       "      <td>1.0</td>\n",
       "      <td>0.0</td>\n",
       "      <td>6.0</td>\n",
       "      <td>0.0</td>\n",
       "      <td>1.0</td>\n",
       "      <td>0.0</td>\n",
       "      <td>6.0</td>\n",
       "      <td>0.0</td>\n",
       "      <td>25.0</td>\n",
       "      <td>0.0</td>\n",
       "    </tr>\n",
       "    <tr>\n",
       "      <th>PMB</th>\n",
       "      <td>331.0</td>\n",
       "      <td>6.0</td>\n",
       "      <td>44.0</td>\n",
       "      <td>1.0</td>\n",
       "      <td>815.0</td>\n",
       "      <td>10.0</td>\n",
       "      <td>275.0</td>\n",
       "      <td>2.0</td>\n",
       "      <td>642.0</td>\n",
       "      <td>28.0</td>\n",
       "      <td>2107.0</td>\n",
       "      <td>47.0</td>\n",
       "    </tr>\n",
       "    <tr>\n",
       "      <th>PTC</th>\n",
       "      <td>454.0</td>\n",
       "      <td>5.0</td>\n",
       "      <td>34.0</td>\n",
       "      <td>1.0</td>\n",
       "      <td>1639.0</td>\n",
       "      <td>38.0</td>\n",
       "      <td>435.0</td>\n",
       "      <td>9.0</td>\n",
       "      <td>2761.0</td>\n",
       "      <td>157.0</td>\n",
       "      <td>5323.0</td>\n",
       "      <td>210.0</td>\n",
       "    </tr>\n",
       "    <tr>\n",
       "      <th>NOVO</th>\n",
       "      <td>221.0</td>\n",
       "      <td>9.0</td>\n",
       "      <td>6.0</td>\n",
       "      <td>0.0</td>\n",
       "      <td>118.0</td>\n",
       "      <td>9.0</td>\n",
       "      <td>119.0</td>\n",
       "      <td>4.0</td>\n",
       "      <td>0.0</td>\n",
       "      <td>0.0</td>\n",
       "      <td>464.0</td>\n",
       "      <td>22.0</td>\n",
       "    </tr>\n",
       "    <tr>\n",
       "      <th>UP</th>\n",
       "      <td>49.0</td>\n",
       "      <td>0.0</td>\n",
       "      <td>0.0</td>\n",
       "      <td>0.0</td>\n",
       "      <td>23.0</td>\n",
       "      <td>0.0</td>\n",
       "      <td>8.0</td>\n",
       "      <td>0.0</td>\n",
       "      <td>10.0</td>\n",
       "      <td>0.0</td>\n",
       "      <td>90.0</td>\n",
       "      <td>0.0</td>\n",
       "    </tr>\n",
       "  </tbody>\n",
       "</table>\n",
       "</div>"
      ],
      "text/plain": [
       "         cand_cap_grandes  cand_cap_grandes_ele  cand_cap_medias  \\\n",
       "PP                  620.0                  31.0             55.0   \n",
       "PT                  636.0                  41.0             64.0   \n",
       "PTB                 693.0                  18.0             76.0   \n",
       "MDB                 639.0                  33.0             73.0   \n",
       "PODE                679.0                  30.0             94.0   \n",
       "DEM                 696.0                  39.0             68.0   \n",
       "PSB                 651.0                  30.0             86.0   \n",
       "PSD                 645.0                  38.0             77.0   \n",
       "PSDB                652.0                  34.0             94.0   \n",
       "PATRI               650.0                  22.0            100.0   \n",
       "SD                  648.0                  12.0             73.0   \n",
       "PRB                 806.0                  39.0             71.0   \n",
       "PDT                 730.0                  36.0             77.0   \n",
       "PSL                 777.0                  15.0            108.0   \n",
       "PSC                 711.0                  19.0             83.0   \n",
       "DC                  300.0                   5.0             73.0   \n",
       "PROS                541.0                  13.0             68.0   \n",
       "PV                  589.0                  11.0             82.0   \n",
       "PL                  631.0                  22.0             52.0   \n",
       "AVT                 634.0                  19.0             52.0   \n",
       "PRTB                501.0                   8.0             59.0   \n",
       "PMN                 462.0                   7.0             22.0   \n",
       "PSTU                 37.0                   0.0              0.0   \n",
       "REDE                356.0                   4.0             38.0   \n",
       "CDD                 572.0                  19.0             87.0   \n",
       "PSOL                402.0                  29.0             31.0   \n",
       "PC DO B             716.0                  12.0             47.0   \n",
       "PCB                  25.0                   0.0              1.0   \n",
       "PCO                  11.0                   0.0              1.0   \n",
       "PMB                 331.0                   6.0             44.0   \n",
       "PTC                 454.0                   5.0             34.0   \n",
       "NOVO                221.0                   9.0              6.0   \n",
       "UP                   49.0                   0.0              0.0   \n",
       "\n",
       "         cand_cap_medias_ele  cand_medias  cand_medias_ele  \\\n",
       "PP                       4.0       3562.0            266.0   \n",
       "PT                       2.0       3787.0            155.0   \n",
       "PTB                      2.0       3470.0            181.0   \n",
       "MDB                      5.0       4100.0            308.0   \n",
       "PODE                     3.0       3615.0            190.0   \n",
       "DEM                      3.0       3916.0            269.0   \n",
       "PSB                      6.0       3365.0            173.0   \n",
       "PSD                      4.0       4394.0            327.0   \n",
       "PSDB                     5.0       3701.0            317.0   \n",
       "PATRI                    2.0       3058.0             86.0   \n",
       "SD                       4.0       3172.0            125.0   \n",
       "PRB                      6.0       4739.0            277.0   \n",
       "PDT                      5.0       3778.0            193.0   \n",
       "PSL                      5.0       4000.0            126.0   \n",
       "PSC                      2.0       3054.0            154.0   \n",
       "DC                       1.0       1432.0             37.0   \n",
       "PROS                     1.0       2338.0             79.0   \n",
       "PV                       2.0       2397.0             95.0   \n",
       "PL                       1.0       3564.0            241.0   \n",
       "AVT                      1.0       2937.0            106.0   \n",
       "PRTB                     1.0       1825.0             37.0   \n",
       "PMN                      0.0       1165.0             20.0   \n",
       "PSTU                     0.0         22.0              0.0   \n",
       "REDE                     1.0       1378.0             22.0   \n",
       "CDD                      5.0       2941.0            162.0   \n",
       "PSOL                     1.0       1025.0              8.0   \n",
       "PC DO B                  0.0       1934.0             46.0   \n",
       "PCB                      0.0         25.0              0.0   \n",
       "PCO                      0.0          6.0              0.0   \n",
       "PMB                      1.0        815.0             10.0   \n",
       "PTC                      1.0       1639.0             38.0   \n",
       "NOVO                     0.0        118.0              9.0   \n",
       "UP                       0.0         23.0              0.0   \n",
       "\n",
       "         cand_outras_grandes  cand_outras_grandes_ele  cand_pequenas  \\\n",
       "PP                     586.0                     31.0        27785.0   \n",
       "PT                     621.0                     34.0        21059.0   \n",
       "PTB                    523.0                     17.0        15057.0   \n",
       "MDB                    659.0                     48.0        32472.0   \n",
       "PODE                   556.0                     16.0        12243.0   \n",
       "DEM                    618.0                     26.0        22843.0   \n",
       "PSB                    535.0                     20.0        18019.0   \n",
       "PSD                    667.0                     29.0        27836.0   \n",
       "PSDB                   700.0                     49.0        22789.0   \n",
       "PATRI                  629.0                     18.0         7395.0   \n",
       "SD                     586.0                     13.0         9833.0   \n",
       "PRB                    661.0                     33.0        18137.0   \n",
       "PDT                    623.0                     21.0        18953.0   \n",
       "PSL                    650.0                     14.0        12592.0   \n",
       "PSC                    589.0                     21.0        10717.0   \n",
       "DC                     355.0                      6.0         1617.0   \n",
       "PROS                   356.0                     10.0         6450.0   \n",
       "PV                     523.0                     12.0         6678.0   \n",
       "PL                     649.0                     31.0        18974.0   \n",
       "AVT                    538.0                     15.0         8558.0   \n",
       "PRTB                   452.0                      8.0         3088.0   \n",
       "PMN                    364.0                      2.0         1977.0   \n",
       "PSTU                    16.0                      0.0           17.0   \n",
       "REDE                   289.0                      4.0         1951.0   \n",
       "CDD                    523.0                     19.0        10592.0   \n",
       "PSOL                   288.0                     11.0         1591.0   \n",
       "PC DO B                461.0                      4.0         5516.0   \n",
       "PCB                      2.0                      0.0            1.0   \n",
       "PCO                      1.0                      0.0            6.0   \n",
       "PMB                    275.0                      2.0          642.0   \n",
       "PTC                    435.0                      9.0         2761.0   \n",
       "NOVO                   119.0                      4.0            0.0   \n",
       "UP                       8.0                      0.0           10.0   \n",
       "\n",
       "         cand_pequenas_ele  cand_total  cand_total_ele  \n",
       "PP                  5840.0     32608.0          6172.0  \n",
       "PT                  2343.0     26167.0          2575.0  \n",
       "PTB                 2157.0     19819.0          2375.0  \n",
       "MDB                 6715.0     37943.0          7109.0  \n",
       "PODE                1211.0     17187.0          1450.0  \n",
       "DEM                 3850.0     28141.0          4187.0  \n",
       "PSB                 2667.0     22656.0          2896.0  \n",
       "PSD                 5104.0     33619.0          5502.0  \n",
       "PSDB                3865.0     27936.0          4270.0  \n",
       "PATRI                565.0     11832.0           693.0  \n",
       "SD                  1137.0     14312.0          1291.0  \n",
       "PRB                 2143.0     24414.0          2498.0  \n",
       "PDT                 3071.0     24161.0          3326.0  \n",
       "PSL                  982.0     18127.0          1142.0  \n",
       "PSC                 1246.0     15154.0          1442.0  \n",
       "DC                    63.0      3777.0           112.0  \n",
       "PROS                 612.0      9753.0           715.0  \n",
       "PV                   665.0     10269.0           785.0  \n",
       "PL                  3031.0     23870.0          3326.0  \n",
       "AVT                  885.0     12719.0          1026.0  \n",
       "PRTB                 148.0      5925.0           202.0  \n",
       "PMN                  154.0      3990.0           183.0  \n",
       "PSTU                   0.0        92.0             0.0  \n",
       "REDE                 108.0      4012.0           139.0  \n",
       "CDD                 1342.0     14715.0          1547.0  \n",
       "PSOL                  33.0      3337.0            82.0  \n",
       "PC DO B              609.0      8674.0           671.0  \n",
       "PCB                    0.0        54.0             0.0  \n",
       "PCO                    0.0        25.0             0.0  \n",
       "PMB                   28.0      2107.0            47.0  \n",
       "PTC                  157.0      5323.0           210.0  \n",
       "NOVO                   0.0       464.0            22.0  \n",
       "UP                     0.0        90.0             0.0  "
      ]
     },
     "execution_count": 187,
     "metadata": {},
     "output_type": "execute_result"
    }
   ],
   "source": [
    "df_out"
   ]
  },
  {
   "cell_type": "code",
   "execution_count": 220,
   "metadata": {},
   "outputs": [],
   "source": [
    "df_taxa = pd.DataFrame()\n",
    "df_taxa['capitais'] = df_out.apply(lambda x : pd.Series(x['cand_cap_grandes_ele']+x['cand_cap_medias_ele']).div(x['cand_cap_grandes']+x['cand_cap_medias']).replace(np.inf,0).fillna(0), 1).T.squeeze()\n",
    "df_taxa['outras_grandes'] = df_out.apply(lambda x : x[['cand_outras_grandes_ele']].div(x['cand_outras_grandes']).replace(np.inf,0).fillna(0), 1).T.squeeze()\n",
    "df_taxa['medias'] = df_out.apply(lambda x : x[['cand_medias_ele']].div(x['cand_medias']).replace(np.inf,0).fillna(0), 1).T.squeeze()\n",
    "df_taxa['pequenas'] = df_out.apply(lambda x : x[['cand_pequenas_ele']].div(x['cand_pequenas']).replace(np.inf,0).fillna(0), 1).T.squeeze()"
   ]
  },
  {
   "cell_type": "code",
   "execution_count": 221,
   "metadata": {},
   "outputs": [],
   "source": [
    "df_taxa['ideologia'] = df_taxa.index.map(mapa_ideologico)"
   ]
  },
  {
   "cell_type": "code",
   "execution_count": 222,
   "metadata": {},
   "outputs": [],
   "source": [
    "df_taxa.index.name = 'partido'\n",
    "df_taxa.reset_index(inplace=True)\n",
    "df_taxa.partido.replace('PRB','REPUBLICANOS', inplace=True)\n",
    "df_taxa.partido.replace('AVT','AVANTE', inplace=True)\n",
    "df_taxa.partido.replace('CDD','CIDADANIA', inplace=True)\n",
    "df_taxa.partido.replace('SD','SOLIDARIEDADE', inplace=True)\n",
    "df_taxa.partido.replace('PATRI','PATRIOTA', inplace=True)\n",
    "df_taxa.set_index('partido', inplace=True)\n",
    "df_taxa.iloc[:,:4] = df_taxa.iloc[:,:4] * 100"
   ]
  },
  {
   "cell_type": "code",
   "execution_count": 223,
   "metadata": {},
   "outputs": [
    {
     "data": {
      "text/html": [
       "<div>\n",
       "<style scoped>\n",
       "    .dataframe tbody tr th:only-of-type {\n",
       "        vertical-align: middle;\n",
       "    }\n",
       "\n",
       "    .dataframe tbody tr th {\n",
       "        vertical-align: top;\n",
       "    }\n",
       "\n",
       "    .dataframe thead th {\n",
       "        text-align: right;\n",
       "    }\n",
       "</style>\n",
       "<table border=\"1\" class=\"dataframe\">\n",
       "  <thead>\n",
       "    <tr style=\"text-align: right;\">\n",
       "      <th></th>\n",
       "      <th>capitais</th>\n",
       "      <th>outras_grandes</th>\n",
       "      <th>medias</th>\n",
       "      <th>pequenas</th>\n",
       "      <th>ideologia</th>\n",
       "    </tr>\n",
       "    <tr>\n",
       "      <th>partido</th>\n",
       "      <th></th>\n",
       "      <th></th>\n",
       "      <th></th>\n",
       "      <th></th>\n",
       "      <th></th>\n",
       "    </tr>\n",
       "  </thead>\n",
       "  <tbody>\n",
       "    <tr>\n",
       "      <th>PP</th>\n",
       "      <td>5.185185</td>\n",
       "      <td>5.290102</td>\n",
       "      <td>7.467715</td>\n",
       "      <td>21.018535</td>\n",
       "      <td>Centro</td>\n",
       "    </tr>\n",
       "    <tr>\n",
       "      <th>PT</th>\n",
       "      <td>6.142857</td>\n",
       "      <td>5.475040</td>\n",
       "      <td>4.092950</td>\n",
       "      <td>11.125884</td>\n",
       "      <td>Esquerda</td>\n",
       "    </tr>\n",
       "    <tr>\n",
       "      <th>PTB</th>\n",
       "      <td>2.600780</td>\n",
       "      <td>3.250478</td>\n",
       "      <td>5.216138</td>\n",
       "      <td>14.325563</td>\n",
       "      <td>Centro</td>\n",
       "    </tr>\n",
       "    <tr>\n",
       "      <th>MDB</th>\n",
       "      <td>5.337079</td>\n",
       "      <td>7.283763</td>\n",
       "      <td>7.512195</td>\n",
       "      <td>20.679355</td>\n",
       "      <td>Centro</td>\n",
       "    </tr>\n",
       "    <tr>\n",
       "      <th>PODE</th>\n",
       "      <td>4.269082</td>\n",
       "      <td>2.877698</td>\n",
       "      <td>5.255878</td>\n",
       "      <td>9.891366</td>\n",
       "      <td>Direita</td>\n",
       "    </tr>\n",
       "    <tr>\n",
       "      <th>DEM</th>\n",
       "      <td>5.497382</td>\n",
       "      <td>4.207120</td>\n",
       "      <td>6.869254</td>\n",
       "      <td>16.854179</td>\n",
       "      <td>Direita</td>\n",
       "    </tr>\n",
       "    <tr>\n",
       "      <th>PSB</th>\n",
       "      <td>4.884668</td>\n",
       "      <td>3.738318</td>\n",
       "      <td>5.141159</td>\n",
       "      <td>14.801043</td>\n",
       "      <td>Esquerda</td>\n",
       "    </tr>\n",
       "    <tr>\n",
       "      <th>PSD</th>\n",
       "      <td>5.817175</td>\n",
       "      <td>4.347826</td>\n",
       "      <td>7.441966</td>\n",
       "      <td>18.335968</td>\n",
       "      <td>Centro</td>\n",
       "    </tr>\n",
       "    <tr>\n",
       "      <th>PSDB</th>\n",
       "      <td>5.227882</td>\n",
       "      <td>7.000000</td>\n",
       "      <td>8.565253</td>\n",
       "      <td>16.959937</td>\n",
       "      <td>Centro</td>\n",
       "    </tr>\n",
       "    <tr>\n",
       "      <th>PATRIOTA</th>\n",
       "      <td>3.200000</td>\n",
       "      <td>2.861685</td>\n",
       "      <td>2.812296</td>\n",
       "      <td>7.640297</td>\n",
       "      <td>Direita</td>\n",
       "    </tr>\n",
       "    <tr>\n",
       "      <th>SOLIDARIEDADE</th>\n",
       "      <td>2.219140</td>\n",
       "      <td>2.218430</td>\n",
       "      <td>3.940731</td>\n",
       "      <td>11.563104</td>\n",
       "      <td>Centro</td>\n",
       "    </tr>\n",
       "    <tr>\n",
       "      <th>REPUBLICANOS</th>\n",
       "      <td>5.131129</td>\n",
       "      <td>4.992436</td>\n",
       "      <td>5.845115</td>\n",
       "      <td>11.815626</td>\n",
       "      <td>Centro</td>\n",
       "    </tr>\n",
       "    <tr>\n",
       "      <th>PDT</th>\n",
       "      <td>5.080545</td>\n",
       "      <td>3.370787</td>\n",
       "      <td>5.108523</td>\n",
       "      <td>16.203240</td>\n",
       "      <td>Esquerda</td>\n",
       "    </tr>\n",
       "    <tr>\n",
       "      <th>PSL</th>\n",
       "      <td>2.259887</td>\n",
       "      <td>2.153846</td>\n",
       "      <td>3.150000</td>\n",
       "      <td>7.798602</td>\n",
       "      <td>Direita</td>\n",
       "    </tr>\n",
       "    <tr>\n",
       "      <th>PSC</th>\n",
       "      <td>2.644836</td>\n",
       "      <td>3.565365</td>\n",
       "      <td>5.042567</td>\n",
       "      <td>11.626388</td>\n",
       "      <td>Direita</td>\n",
       "    </tr>\n",
       "    <tr>\n",
       "      <th>DC</th>\n",
       "      <td>1.608579</td>\n",
       "      <td>1.690141</td>\n",
       "      <td>2.583799</td>\n",
       "      <td>3.896104</td>\n",
       "      <td>Direita</td>\n",
       "    </tr>\n",
       "    <tr>\n",
       "      <th>PROS</th>\n",
       "      <td>2.298851</td>\n",
       "      <td>2.808989</td>\n",
       "      <td>3.378956</td>\n",
       "      <td>9.488372</td>\n",
       "      <td>Centro</td>\n",
       "    </tr>\n",
       "    <tr>\n",
       "      <th>PV</th>\n",
       "      <td>1.937407</td>\n",
       "      <td>2.294455</td>\n",
       "      <td>3.963287</td>\n",
       "      <td>9.958071</td>\n",
       "      <td>Esquerda</td>\n",
       "    </tr>\n",
       "    <tr>\n",
       "      <th>PL</th>\n",
       "      <td>3.367496</td>\n",
       "      <td>4.776579</td>\n",
       "      <td>6.762065</td>\n",
       "      <td>15.974491</td>\n",
       "      <td>Direita</td>\n",
       "    </tr>\n",
       "    <tr>\n",
       "      <th>AVANTE</th>\n",
       "      <td>2.915452</td>\n",
       "      <td>2.788104</td>\n",
       "      <td>3.609125</td>\n",
       "      <td>10.341201</td>\n",
       "      <td>Direita</td>\n",
       "    </tr>\n",
       "    <tr>\n",
       "      <th>PRTB</th>\n",
       "      <td>1.607143</td>\n",
       "      <td>1.769912</td>\n",
       "      <td>2.027397</td>\n",
       "      <td>4.792746</td>\n",
       "      <td>Direita</td>\n",
       "    </tr>\n",
       "    <tr>\n",
       "      <th>PMN</th>\n",
       "      <td>1.446281</td>\n",
       "      <td>0.549451</td>\n",
       "      <td>1.716738</td>\n",
       "      <td>7.789580</td>\n",
       "      <td>Centro</td>\n",
       "    </tr>\n",
       "    <tr>\n",
       "      <th>PSTU</th>\n",
       "      <td>0.000000</td>\n",
       "      <td>0.000000</td>\n",
       "      <td>0.000000</td>\n",
       "      <td>0.000000</td>\n",
       "      <td>Esquerda</td>\n",
       "    </tr>\n",
       "    <tr>\n",
       "      <th>REDE</th>\n",
       "      <td>1.269036</td>\n",
       "      <td>1.384083</td>\n",
       "      <td>1.596517</td>\n",
       "      <td>5.535623</td>\n",
       "      <td>Esquerda</td>\n",
       "    </tr>\n",
       "    <tr>\n",
       "      <th>CIDADANIA</th>\n",
       "      <td>3.641882</td>\n",
       "      <td>3.632887</td>\n",
       "      <td>5.508330</td>\n",
       "      <td>12.669940</td>\n",
       "      <td>Centro</td>\n",
       "    </tr>\n",
       "    <tr>\n",
       "      <th>PSOL</th>\n",
       "      <td>6.928406</td>\n",
       "      <td>3.819444</td>\n",
       "      <td>0.780488</td>\n",
       "      <td>2.074167</td>\n",
       "      <td>Esquerda</td>\n",
       "    </tr>\n",
       "    <tr>\n",
       "      <th>PC DO B</th>\n",
       "      <td>1.572739</td>\n",
       "      <td>0.867679</td>\n",
       "      <td>2.378490</td>\n",
       "      <td>11.040609</td>\n",
       "      <td>Esquerda</td>\n",
       "    </tr>\n",
       "    <tr>\n",
       "      <th>PCB</th>\n",
       "      <td>0.000000</td>\n",
       "      <td>0.000000</td>\n",
       "      <td>0.000000</td>\n",
       "      <td>0.000000</td>\n",
       "      <td>Esquerda</td>\n",
       "    </tr>\n",
       "    <tr>\n",
       "      <th>PCO</th>\n",
       "      <td>0.000000</td>\n",
       "      <td>0.000000</td>\n",
       "      <td>0.000000</td>\n",
       "      <td>0.000000</td>\n",
       "      <td>Esquerda</td>\n",
       "    </tr>\n",
       "    <tr>\n",
       "      <th>PMB</th>\n",
       "      <td>1.866667</td>\n",
       "      <td>0.727273</td>\n",
       "      <td>1.226994</td>\n",
       "      <td>4.361371</td>\n",
       "      <td>Centro</td>\n",
       "    </tr>\n",
       "    <tr>\n",
       "      <th>PTC</th>\n",
       "      <td>1.229508</td>\n",
       "      <td>2.068966</td>\n",
       "      <td>2.318487</td>\n",
       "      <td>5.686346</td>\n",
       "      <td>Direita</td>\n",
       "    </tr>\n",
       "    <tr>\n",
       "      <th>NOVO</th>\n",
       "      <td>3.964758</td>\n",
       "      <td>3.361345</td>\n",
       "      <td>7.627119</td>\n",
       "      <td>0.000000</td>\n",
       "      <td>Direita</td>\n",
       "    </tr>\n",
       "    <tr>\n",
       "      <th>UP</th>\n",
       "      <td>0.000000</td>\n",
       "      <td>0.000000</td>\n",
       "      <td>0.000000</td>\n",
       "      <td>0.000000</td>\n",
       "      <td>Esquerda</td>\n",
       "    </tr>\n",
       "  </tbody>\n",
       "</table>\n",
       "</div>"
      ],
      "text/plain": [
       "               capitais  outras_grandes    medias   pequenas ideologia\n",
       "partido                                                               \n",
       "PP             5.185185        5.290102  7.467715  21.018535    Centro\n",
       "PT             6.142857        5.475040  4.092950  11.125884  Esquerda\n",
       "PTB            2.600780        3.250478  5.216138  14.325563    Centro\n",
       "MDB            5.337079        7.283763  7.512195  20.679355    Centro\n",
       "PODE           4.269082        2.877698  5.255878   9.891366   Direita\n",
       "DEM            5.497382        4.207120  6.869254  16.854179   Direita\n",
       "PSB            4.884668        3.738318  5.141159  14.801043  Esquerda\n",
       "PSD            5.817175        4.347826  7.441966  18.335968    Centro\n",
       "PSDB           5.227882        7.000000  8.565253  16.959937    Centro\n",
       "PATRIOTA       3.200000        2.861685  2.812296   7.640297   Direita\n",
       "SOLIDARIEDADE  2.219140        2.218430  3.940731  11.563104    Centro\n",
       "REPUBLICANOS   5.131129        4.992436  5.845115  11.815626    Centro\n",
       "PDT            5.080545        3.370787  5.108523  16.203240  Esquerda\n",
       "PSL            2.259887        2.153846  3.150000   7.798602   Direita\n",
       "PSC            2.644836        3.565365  5.042567  11.626388   Direita\n",
       "DC             1.608579        1.690141  2.583799   3.896104   Direita\n",
       "PROS           2.298851        2.808989  3.378956   9.488372    Centro\n",
       "PV             1.937407        2.294455  3.963287   9.958071  Esquerda\n",
       "PL             3.367496        4.776579  6.762065  15.974491   Direita\n",
       "AVANTE         2.915452        2.788104  3.609125  10.341201   Direita\n",
       "PRTB           1.607143        1.769912  2.027397   4.792746   Direita\n",
       "PMN            1.446281        0.549451  1.716738   7.789580    Centro\n",
       "PSTU           0.000000        0.000000  0.000000   0.000000  Esquerda\n",
       "REDE           1.269036        1.384083  1.596517   5.535623  Esquerda\n",
       "CIDADANIA      3.641882        3.632887  5.508330  12.669940    Centro\n",
       "PSOL           6.928406        3.819444  0.780488   2.074167  Esquerda\n",
       "PC DO B        1.572739        0.867679  2.378490  11.040609  Esquerda\n",
       "PCB            0.000000        0.000000  0.000000   0.000000  Esquerda\n",
       "PCO            0.000000        0.000000  0.000000   0.000000  Esquerda\n",
       "PMB            1.866667        0.727273  1.226994   4.361371    Centro\n",
       "PTC            1.229508        2.068966  2.318487   5.686346   Direita\n",
       "NOVO           3.964758        3.361345  7.627119   0.000000   Direita\n",
       "UP             0.000000        0.000000  0.000000   0.000000  Esquerda"
      ]
     },
     "execution_count": 223,
     "metadata": {},
     "output_type": "execute_result"
    }
   ],
   "source": [
    "df_taxa"
   ]
  },
  {
   "cell_type": "code",
   "execution_count": 162,
   "metadata": {
    "scrolled": true
   },
   "outputs": [
    {
     "data": {
      "application/vnd.plotly.v1+json": {
       "config": {
        "plotlyServerURL": "https://plot.ly"
       },
       "data": [
        {
         "link": {
          "source": [
           0,
           0,
           0,
           0,
           1,
           2,
           3,
           4
          ],
          "target": [
           1,
           2,
           3,
           4,
           5,
           5,
           5,
           5
          ],
          "value": [
           433,
           288,
           1025,
           1591,
           30,
           11,
           8,
           33
          ]
         },
         "node": {
          "color": "blue",
          "label": [
           "Candidatos",
           "Capitais",
           "Outras Grandes Grandes",
           "Cidades Médias",
           "Cidades Pequenas",
           "Eleitos"
          ],
          "line": {
           "color": "black",
           "width": 0.5
          },
          "pad": 15,
          "thickness": 20
         },
         "type": "sankey"
        }
       ],
       "layout": {
        "font": {
         "size": 10
        },
        "template": {
         "data": {
          "bar": [
           {
            "error_x": {
             "color": "#2a3f5f"
            },
            "error_y": {
             "color": "#2a3f5f"
            },
            "marker": {
             "line": {
              "color": "#E5ECF6",
              "width": 0.5
             }
            },
            "type": "bar"
           }
          ],
          "barpolar": [
           {
            "marker": {
             "line": {
              "color": "#E5ECF6",
              "width": 0.5
             }
            },
            "type": "barpolar"
           }
          ],
          "carpet": [
           {
            "aaxis": {
             "endlinecolor": "#2a3f5f",
             "gridcolor": "white",
             "linecolor": "white",
             "minorgridcolor": "white",
             "startlinecolor": "#2a3f5f"
            },
            "baxis": {
             "endlinecolor": "#2a3f5f",
             "gridcolor": "white",
             "linecolor": "white",
             "minorgridcolor": "white",
             "startlinecolor": "#2a3f5f"
            },
            "type": "carpet"
           }
          ],
          "choropleth": [
           {
            "colorbar": {
             "outlinewidth": 0,
             "ticks": ""
            },
            "type": "choropleth"
           }
          ],
          "contour": [
           {
            "colorbar": {
             "outlinewidth": 0,
             "ticks": ""
            },
            "colorscale": [
             [
              0,
              "#0d0887"
             ],
             [
              0.1111111111111111,
              "#46039f"
             ],
             [
              0.2222222222222222,
              "#7201a8"
             ],
             [
              0.3333333333333333,
              "#9c179e"
             ],
             [
              0.4444444444444444,
              "#bd3786"
             ],
             [
              0.5555555555555556,
              "#d8576b"
             ],
             [
              0.6666666666666666,
              "#ed7953"
             ],
             [
              0.7777777777777778,
              "#fb9f3a"
             ],
             [
              0.8888888888888888,
              "#fdca26"
             ],
             [
              1,
              "#f0f921"
             ]
            ],
            "type": "contour"
           }
          ],
          "contourcarpet": [
           {
            "colorbar": {
             "outlinewidth": 0,
             "ticks": ""
            },
            "type": "contourcarpet"
           }
          ],
          "heatmap": [
           {
            "colorbar": {
             "outlinewidth": 0,
             "ticks": ""
            },
            "colorscale": [
             [
              0,
              "#0d0887"
             ],
             [
              0.1111111111111111,
              "#46039f"
             ],
             [
              0.2222222222222222,
              "#7201a8"
             ],
             [
              0.3333333333333333,
              "#9c179e"
             ],
             [
              0.4444444444444444,
              "#bd3786"
             ],
             [
              0.5555555555555556,
              "#d8576b"
             ],
             [
              0.6666666666666666,
              "#ed7953"
             ],
             [
              0.7777777777777778,
              "#fb9f3a"
             ],
             [
              0.8888888888888888,
              "#fdca26"
             ],
             [
              1,
              "#f0f921"
             ]
            ],
            "type": "heatmap"
           }
          ],
          "heatmapgl": [
           {
            "colorbar": {
             "outlinewidth": 0,
             "ticks": ""
            },
            "colorscale": [
             [
              0,
              "#0d0887"
             ],
             [
              0.1111111111111111,
              "#46039f"
             ],
             [
              0.2222222222222222,
              "#7201a8"
             ],
             [
              0.3333333333333333,
              "#9c179e"
             ],
             [
              0.4444444444444444,
              "#bd3786"
             ],
             [
              0.5555555555555556,
              "#d8576b"
             ],
             [
              0.6666666666666666,
              "#ed7953"
             ],
             [
              0.7777777777777778,
              "#fb9f3a"
             ],
             [
              0.8888888888888888,
              "#fdca26"
             ],
             [
              1,
              "#f0f921"
             ]
            ],
            "type": "heatmapgl"
           }
          ],
          "histogram": [
           {
            "marker": {
             "colorbar": {
              "outlinewidth": 0,
              "ticks": ""
             }
            },
            "type": "histogram"
           }
          ],
          "histogram2d": [
           {
            "colorbar": {
             "outlinewidth": 0,
             "ticks": ""
            },
            "colorscale": [
             [
              0,
              "#0d0887"
             ],
             [
              0.1111111111111111,
              "#46039f"
             ],
             [
              0.2222222222222222,
              "#7201a8"
             ],
             [
              0.3333333333333333,
              "#9c179e"
             ],
             [
              0.4444444444444444,
              "#bd3786"
             ],
             [
              0.5555555555555556,
              "#d8576b"
             ],
             [
              0.6666666666666666,
              "#ed7953"
             ],
             [
              0.7777777777777778,
              "#fb9f3a"
             ],
             [
              0.8888888888888888,
              "#fdca26"
             ],
             [
              1,
              "#f0f921"
             ]
            ],
            "type": "histogram2d"
           }
          ],
          "histogram2dcontour": [
           {
            "colorbar": {
             "outlinewidth": 0,
             "ticks": ""
            },
            "colorscale": [
             [
              0,
              "#0d0887"
             ],
             [
              0.1111111111111111,
              "#46039f"
             ],
             [
              0.2222222222222222,
              "#7201a8"
             ],
             [
              0.3333333333333333,
              "#9c179e"
             ],
             [
              0.4444444444444444,
              "#bd3786"
             ],
             [
              0.5555555555555556,
              "#d8576b"
             ],
             [
              0.6666666666666666,
              "#ed7953"
             ],
             [
              0.7777777777777778,
              "#fb9f3a"
             ],
             [
              0.8888888888888888,
              "#fdca26"
             ],
             [
              1,
              "#f0f921"
             ]
            ],
            "type": "histogram2dcontour"
           }
          ],
          "mesh3d": [
           {
            "colorbar": {
             "outlinewidth": 0,
             "ticks": ""
            },
            "type": "mesh3d"
           }
          ],
          "parcoords": [
           {
            "line": {
             "colorbar": {
              "outlinewidth": 0,
              "ticks": ""
             }
            },
            "type": "parcoords"
           }
          ],
          "pie": [
           {
            "automargin": true,
            "type": "pie"
           }
          ],
          "scatter": [
           {
            "marker": {
             "colorbar": {
              "outlinewidth": 0,
              "ticks": ""
             }
            },
            "type": "scatter"
           }
          ],
          "scatter3d": [
           {
            "line": {
             "colorbar": {
              "outlinewidth": 0,
              "ticks": ""
             }
            },
            "marker": {
             "colorbar": {
              "outlinewidth": 0,
              "ticks": ""
             }
            },
            "type": "scatter3d"
           }
          ],
          "scattercarpet": [
           {
            "marker": {
             "colorbar": {
              "outlinewidth": 0,
              "ticks": ""
             }
            },
            "type": "scattercarpet"
           }
          ],
          "scattergeo": [
           {
            "marker": {
             "colorbar": {
              "outlinewidth": 0,
              "ticks": ""
             }
            },
            "type": "scattergeo"
           }
          ],
          "scattergl": [
           {
            "marker": {
             "colorbar": {
              "outlinewidth": 0,
              "ticks": ""
             }
            },
            "type": "scattergl"
           }
          ],
          "scattermapbox": [
           {
            "marker": {
             "colorbar": {
              "outlinewidth": 0,
              "ticks": ""
             }
            },
            "type": "scattermapbox"
           }
          ],
          "scatterpolar": [
           {
            "marker": {
             "colorbar": {
              "outlinewidth": 0,
              "ticks": ""
             }
            },
            "type": "scatterpolar"
           }
          ],
          "scatterpolargl": [
           {
            "marker": {
             "colorbar": {
              "outlinewidth": 0,
              "ticks": ""
             }
            },
            "type": "scatterpolargl"
           }
          ],
          "scatterternary": [
           {
            "marker": {
             "colorbar": {
              "outlinewidth": 0,
              "ticks": ""
             }
            },
            "type": "scatterternary"
           }
          ],
          "surface": [
           {
            "colorbar": {
             "outlinewidth": 0,
             "ticks": ""
            },
            "colorscale": [
             [
              0,
              "#0d0887"
             ],
             [
              0.1111111111111111,
              "#46039f"
             ],
             [
              0.2222222222222222,
              "#7201a8"
             ],
             [
              0.3333333333333333,
              "#9c179e"
             ],
             [
              0.4444444444444444,
              "#bd3786"
             ],
             [
              0.5555555555555556,
              "#d8576b"
             ],
             [
              0.6666666666666666,
              "#ed7953"
             ],
             [
              0.7777777777777778,
              "#fb9f3a"
             ],
             [
              0.8888888888888888,
              "#fdca26"
             ],
             [
              1,
              "#f0f921"
             ]
            ],
            "type": "surface"
           }
          ],
          "table": [
           {
            "cells": {
             "fill": {
              "color": "#EBF0F8"
             },
             "line": {
              "color": "white"
             }
            },
            "header": {
             "fill": {
              "color": "#C8D4E3"
             },
             "line": {
              "color": "white"
             }
            },
            "type": "table"
           }
          ]
         },
         "layout": {
          "annotationdefaults": {
           "arrowcolor": "#2a3f5f",
           "arrowhead": 0,
           "arrowwidth": 1
          },
          "coloraxis": {
           "colorbar": {
            "outlinewidth": 0,
            "ticks": ""
           }
          },
          "colorscale": {
           "diverging": [
            [
             0,
             "#8e0152"
            ],
            [
             0.1,
             "#c51b7d"
            ],
            [
             0.2,
             "#de77ae"
            ],
            [
             0.3,
             "#f1b6da"
            ],
            [
             0.4,
             "#fde0ef"
            ],
            [
             0.5,
             "#f7f7f7"
            ],
            [
             0.6,
             "#e6f5d0"
            ],
            [
             0.7,
             "#b8e186"
            ],
            [
             0.8,
             "#7fbc41"
            ],
            [
             0.9,
             "#4d9221"
            ],
            [
             1,
             "#276419"
            ]
           ],
           "sequential": [
            [
             0,
             "#0d0887"
            ],
            [
             0.1111111111111111,
             "#46039f"
            ],
            [
             0.2222222222222222,
             "#7201a8"
            ],
            [
             0.3333333333333333,
             "#9c179e"
            ],
            [
             0.4444444444444444,
             "#bd3786"
            ],
            [
             0.5555555555555556,
             "#d8576b"
            ],
            [
             0.6666666666666666,
             "#ed7953"
            ],
            [
             0.7777777777777778,
             "#fb9f3a"
            ],
            [
             0.8888888888888888,
             "#fdca26"
            ],
            [
             1,
             "#f0f921"
            ]
           ],
           "sequentialminus": [
            [
             0,
             "#0d0887"
            ],
            [
             0.1111111111111111,
             "#46039f"
            ],
            [
             0.2222222222222222,
             "#7201a8"
            ],
            [
             0.3333333333333333,
             "#9c179e"
            ],
            [
             0.4444444444444444,
             "#bd3786"
            ],
            [
             0.5555555555555556,
             "#d8576b"
            ],
            [
             0.6666666666666666,
             "#ed7953"
            ],
            [
             0.7777777777777778,
             "#fb9f3a"
            ],
            [
             0.8888888888888888,
             "#fdca26"
            ],
            [
             1,
             "#f0f921"
            ]
           ]
          },
          "colorway": [
           "#636efa",
           "#EF553B",
           "#00cc96",
           "#ab63fa",
           "#FFA15A",
           "#19d3f3",
           "#FF6692",
           "#B6E880",
           "#FF97FF",
           "#FECB52"
          ],
          "font": {
           "color": "#2a3f5f"
          },
          "geo": {
           "bgcolor": "white",
           "lakecolor": "white",
           "landcolor": "#E5ECF6",
           "showlakes": true,
           "showland": true,
           "subunitcolor": "white"
          },
          "hoverlabel": {
           "align": "left"
          },
          "hovermode": "closest",
          "mapbox": {
           "style": "light"
          },
          "paper_bgcolor": "white",
          "plot_bgcolor": "#E5ECF6",
          "polar": {
           "angularaxis": {
            "gridcolor": "white",
            "linecolor": "white",
            "ticks": ""
           },
           "bgcolor": "#E5ECF6",
           "radialaxis": {
            "gridcolor": "white",
            "linecolor": "white",
            "ticks": ""
           }
          },
          "scene": {
           "xaxis": {
            "backgroundcolor": "#E5ECF6",
            "gridcolor": "white",
            "gridwidth": 2,
            "linecolor": "white",
            "showbackground": true,
            "ticks": "",
            "zerolinecolor": "white"
           },
           "yaxis": {
            "backgroundcolor": "#E5ECF6",
            "gridcolor": "white",
            "gridwidth": 2,
            "linecolor": "white",
            "showbackground": true,
            "ticks": "",
            "zerolinecolor": "white"
           },
           "zaxis": {
            "backgroundcolor": "#E5ECF6",
            "gridcolor": "white",
            "gridwidth": 2,
            "linecolor": "white",
            "showbackground": true,
            "ticks": "",
            "zerolinecolor": "white"
           }
          },
          "shapedefaults": {
           "line": {
            "color": "#2a3f5f"
           }
          },
          "ternary": {
           "aaxis": {
            "gridcolor": "white",
            "linecolor": "white",
            "ticks": ""
           },
           "baxis": {
            "gridcolor": "white",
            "linecolor": "white",
            "ticks": ""
           },
           "bgcolor": "#E5ECF6",
           "caxis": {
            "gridcolor": "white",
            "linecolor": "white",
            "ticks": ""
           }
          },
          "title": {
           "x": 0.05
          },
          "xaxis": {
           "automargin": true,
           "gridcolor": "white",
           "linecolor": "white",
           "ticks": "",
           "title": {
            "standoff": 15
           },
           "zerolinecolor": "white",
           "zerolinewidth": 2
          },
          "yaxis": {
           "automargin": true,
           "gridcolor": "white",
           "linecolor": "white",
           "ticks": "",
           "title": {
            "standoff": 15
           },
           "zerolinecolor": "white",
           "zerolinewidth": 2
          }
         }
        },
        "title": {
         "text": "Basic Sankey Diagram"
        }
       }
      },
      "text/html": [
       "<div>                            <div id=\"5136611d-8e67-4128-92b5-3539a2ac8037\" class=\"plotly-graph-div\" style=\"height:525px; width:100%;\"></div>            <script type=\"text/javascript\">                require([\"plotly\"], function(Plotly) {                    window.PLOTLYENV=window.PLOTLYENV || {};                                    if (document.getElementById(\"5136611d-8e67-4128-92b5-3539a2ac8037\")) {                    Plotly.newPlot(                        \"5136611d-8e67-4128-92b5-3539a2ac8037\",                        [{\"link\": {\"source\": [0, 0, 0, 0, 1, 2, 3, 4], \"target\": [1, 2, 3, 4, 5, 5, 5, 5], \"value\": [433.0, 288.0, 1025.0, 1591.0, 30.0, 11.0, 8.0, 33.0]}, \"node\": {\"color\": \"blue\", \"label\": [\"Candidatos\", \"Capitais\", \"Outras Grandes Grandes\", \"Cidades M\\u00e9dias\", \"Cidades Pequenas\", \"Eleitos\"], \"line\": {\"color\": \"black\", \"width\": 0.5}, \"pad\": 15, \"thickness\": 20}, \"type\": \"sankey\"}],                        {\"font\": {\"size\": 10}, \"template\": {\"data\": {\"bar\": [{\"error_x\": {\"color\": \"#2a3f5f\"}, \"error_y\": {\"color\": \"#2a3f5f\"}, \"marker\": {\"line\": {\"color\": \"#E5ECF6\", \"width\": 0.5}}, \"type\": \"bar\"}], \"barpolar\": [{\"marker\": {\"line\": {\"color\": \"#E5ECF6\", \"width\": 0.5}}, \"type\": \"barpolar\"}], \"carpet\": [{\"aaxis\": {\"endlinecolor\": \"#2a3f5f\", \"gridcolor\": \"white\", \"linecolor\": \"white\", \"minorgridcolor\": \"white\", \"startlinecolor\": \"#2a3f5f\"}, \"baxis\": {\"endlinecolor\": \"#2a3f5f\", \"gridcolor\": \"white\", \"linecolor\": \"white\", \"minorgridcolor\": \"white\", \"startlinecolor\": \"#2a3f5f\"}, \"type\": \"carpet\"}], \"choropleth\": [{\"colorbar\": {\"outlinewidth\": 0, \"ticks\": \"\"}, \"type\": \"choropleth\"}], \"contour\": [{\"colorbar\": {\"outlinewidth\": 0, \"ticks\": \"\"}, \"colorscale\": [[0.0, \"#0d0887\"], [0.1111111111111111, \"#46039f\"], [0.2222222222222222, \"#7201a8\"], [0.3333333333333333, \"#9c179e\"], [0.4444444444444444, \"#bd3786\"], [0.5555555555555556, \"#d8576b\"], [0.6666666666666666, \"#ed7953\"], [0.7777777777777778, \"#fb9f3a\"], [0.8888888888888888, \"#fdca26\"], [1.0, \"#f0f921\"]], \"type\": \"contour\"}], \"contourcarpet\": [{\"colorbar\": {\"outlinewidth\": 0, \"ticks\": \"\"}, \"type\": \"contourcarpet\"}], \"heatmap\": [{\"colorbar\": {\"outlinewidth\": 0, \"ticks\": \"\"}, \"colorscale\": [[0.0, \"#0d0887\"], [0.1111111111111111, \"#46039f\"], [0.2222222222222222, \"#7201a8\"], [0.3333333333333333, \"#9c179e\"], [0.4444444444444444, \"#bd3786\"], [0.5555555555555556, \"#d8576b\"], [0.6666666666666666, \"#ed7953\"], [0.7777777777777778, \"#fb9f3a\"], [0.8888888888888888, \"#fdca26\"], [1.0, \"#f0f921\"]], \"type\": \"heatmap\"}], \"heatmapgl\": [{\"colorbar\": {\"outlinewidth\": 0, \"ticks\": \"\"}, \"colorscale\": [[0.0, \"#0d0887\"], [0.1111111111111111, \"#46039f\"], [0.2222222222222222, \"#7201a8\"], [0.3333333333333333, \"#9c179e\"], [0.4444444444444444, \"#bd3786\"], [0.5555555555555556, \"#d8576b\"], [0.6666666666666666, \"#ed7953\"], [0.7777777777777778, \"#fb9f3a\"], [0.8888888888888888, \"#fdca26\"], [1.0, \"#f0f921\"]], \"type\": \"heatmapgl\"}], \"histogram\": [{\"marker\": {\"colorbar\": {\"outlinewidth\": 0, \"ticks\": \"\"}}, \"type\": \"histogram\"}], \"histogram2d\": [{\"colorbar\": {\"outlinewidth\": 0, \"ticks\": \"\"}, \"colorscale\": [[0.0, \"#0d0887\"], [0.1111111111111111, \"#46039f\"], [0.2222222222222222, \"#7201a8\"], [0.3333333333333333, \"#9c179e\"], [0.4444444444444444, \"#bd3786\"], [0.5555555555555556, \"#d8576b\"], [0.6666666666666666, \"#ed7953\"], [0.7777777777777778, \"#fb9f3a\"], [0.8888888888888888, \"#fdca26\"], [1.0, \"#f0f921\"]], \"type\": \"histogram2d\"}], \"histogram2dcontour\": [{\"colorbar\": {\"outlinewidth\": 0, \"ticks\": \"\"}, \"colorscale\": [[0.0, \"#0d0887\"], [0.1111111111111111, \"#46039f\"], [0.2222222222222222, \"#7201a8\"], [0.3333333333333333, \"#9c179e\"], [0.4444444444444444, \"#bd3786\"], [0.5555555555555556, \"#d8576b\"], [0.6666666666666666, \"#ed7953\"], [0.7777777777777778, \"#fb9f3a\"], [0.8888888888888888, \"#fdca26\"], [1.0, \"#f0f921\"]], \"type\": \"histogram2dcontour\"}], \"mesh3d\": [{\"colorbar\": {\"outlinewidth\": 0, \"ticks\": \"\"}, \"type\": \"mesh3d\"}], \"parcoords\": [{\"line\": {\"colorbar\": {\"outlinewidth\": 0, \"ticks\": \"\"}}, \"type\": \"parcoords\"}], \"pie\": [{\"automargin\": true, \"type\": \"pie\"}], \"scatter\": [{\"marker\": {\"colorbar\": {\"outlinewidth\": 0, \"ticks\": \"\"}}, \"type\": \"scatter\"}], \"scatter3d\": [{\"line\": {\"colorbar\": {\"outlinewidth\": 0, \"ticks\": \"\"}}, \"marker\": {\"colorbar\": {\"outlinewidth\": 0, \"ticks\": \"\"}}, \"type\": \"scatter3d\"}], \"scattercarpet\": [{\"marker\": {\"colorbar\": {\"outlinewidth\": 0, \"ticks\": \"\"}}, \"type\": \"scattercarpet\"}], \"scattergeo\": [{\"marker\": {\"colorbar\": {\"outlinewidth\": 0, \"ticks\": \"\"}}, \"type\": \"scattergeo\"}], \"scattergl\": [{\"marker\": {\"colorbar\": {\"outlinewidth\": 0, \"ticks\": \"\"}}, \"type\": \"scattergl\"}], \"scattermapbox\": [{\"marker\": {\"colorbar\": {\"outlinewidth\": 0, \"ticks\": \"\"}}, \"type\": \"scattermapbox\"}], \"scatterpolar\": [{\"marker\": {\"colorbar\": {\"outlinewidth\": 0, \"ticks\": \"\"}}, \"type\": \"scatterpolar\"}], \"scatterpolargl\": [{\"marker\": {\"colorbar\": {\"outlinewidth\": 0, \"ticks\": \"\"}}, \"type\": \"scatterpolargl\"}], \"scatterternary\": [{\"marker\": {\"colorbar\": {\"outlinewidth\": 0, \"ticks\": \"\"}}, \"type\": \"scatterternary\"}], \"surface\": [{\"colorbar\": {\"outlinewidth\": 0, \"ticks\": \"\"}, \"colorscale\": [[0.0, \"#0d0887\"], [0.1111111111111111, \"#46039f\"], [0.2222222222222222, \"#7201a8\"], [0.3333333333333333, \"#9c179e\"], [0.4444444444444444, \"#bd3786\"], [0.5555555555555556, \"#d8576b\"], [0.6666666666666666, \"#ed7953\"], [0.7777777777777778, \"#fb9f3a\"], [0.8888888888888888, \"#fdca26\"], [1.0, \"#f0f921\"]], \"type\": \"surface\"}], \"table\": [{\"cells\": {\"fill\": {\"color\": \"#EBF0F8\"}, \"line\": {\"color\": \"white\"}}, \"header\": {\"fill\": {\"color\": \"#C8D4E3\"}, \"line\": {\"color\": \"white\"}}, \"type\": \"table\"}]}, \"layout\": {\"annotationdefaults\": {\"arrowcolor\": \"#2a3f5f\", \"arrowhead\": 0, \"arrowwidth\": 1}, \"coloraxis\": {\"colorbar\": {\"outlinewidth\": 0, \"ticks\": \"\"}}, \"colorscale\": {\"diverging\": [[0, \"#8e0152\"], [0.1, \"#c51b7d\"], [0.2, \"#de77ae\"], [0.3, \"#f1b6da\"], [0.4, \"#fde0ef\"], [0.5, \"#f7f7f7\"], [0.6, \"#e6f5d0\"], [0.7, \"#b8e186\"], [0.8, \"#7fbc41\"], [0.9, \"#4d9221\"], [1, \"#276419\"]], \"sequential\": [[0.0, \"#0d0887\"], [0.1111111111111111, \"#46039f\"], [0.2222222222222222, \"#7201a8\"], [0.3333333333333333, \"#9c179e\"], [0.4444444444444444, \"#bd3786\"], [0.5555555555555556, \"#d8576b\"], [0.6666666666666666, \"#ed7953\"], [0.7777777777777778, \"#fb9f3a\"], [0.8888888888888888, \"#fdca26\"], [1.0, \"#f0f921\"]], \"sequentialminus\": [[0.0, \"#0d0887\"], [0.1111111111111111, \"#46039f\"], [0.2222222222222222, \"#7201a8\"], [0.3333333333333333, \"#9c179e\"], [0.4444444444444444, \"#bd3786\"], [0.5555555555555556, \"#d8576b\"], [0.6666666666666666, \"#ed7953\"], [0.7777777777777778, \"#fb9f3a\"], [0.8888888888888888, \"#fdca26\"], [1.0, \"#f0f921\"]]}, \"colorway\": [\"#636efa\", \"#EF553B\", \"#00cc96\", \"#ab63fa\", \"#FFA15A\", \"#19d3f3\", \"#FF6692\", \"#B6E880\", \"#FF97FF\", \"#FECB52\"], \"font\": {\"color\": \"#2a3f5f\"}, \"geo\": {\"bgcolor\": \"white\", \"lakecolor\": \"white\", \"landcolor\": \"#E5ECF6\", \"showlakes\": true, \"showland\": true, \"subunitcolor\": \"white\"}, \"hoverlabel\": {\"align\": \"left\"}, \"hovermode\": \"closest\", \"mapbox\": {\"style\": \"light\"}, \"paper_bgcolor\": \"white\", \"plot_bgcolor\": \"#E5ECF6\", \"polar\": {\"angularaxis\": {\"gridcolor\": \"white\", \"linecolor\": \"white\", \"ticks\": \"\"}, \"bgcolor\": \"#E5ECF6\", \"radialaxis\": {\"gridcolor\": \"white\", \"linecolor\": \"white\", \"ticks\": \"\"}}, \"scene\": {\"xaxis\": {\"backgroundcolor\": \"#E5ECF6\", \"gridcolor\": \"white\", \"gridwidth\": 2, \"linecolor\": \"white\", \"showbackground\": true, \"ticks\": \"\", \"zerolinecolor\": \"white\"}, \"yaxis\": {\"backgroundcolor\": \"#E5ECF6\", \"gridcolor\": \"white\", \"gridwidth\": 2, \"linecolor\": \"white\", \"showbackground\": true, \"ticks\": \"\", \"zerolinecolor\": \"white\"}, \"zaxis\": {\"backgroundcolor\": \"#E5ECF6\", \"gridcolor\": \"white\", \"gridwidth\": 2, \"linecolor\": \"white\", \"showbackground\": true, \"ticks\": \"\", \"zerolinecolor\": \"white\"}}, \"shapedefaults\": {\"line\": {\"color\": \"#2a3f5f\"}}, \"ternary\": {\"aaxis\": {\"gridcolor\": \"white\", \"linecolor\": \"white\", \"ticks\": \"\"}, \"baxis\": {\"gridcolor\": \"white\", \"linecolor\": \"white\", \"ticks\": \"\"}, \"bgcolor\": \"#E5ECF6\", \"caxis\": {\"gridcolor\": \"white\", \"linecolor\": \"white\", \"ticks\": \"\"}}, \"title\": {\"x\": 0.05}, \"xaxis\": {\"automargin\": true, \"gridcolor\": \"white\", \"linecolor\": \"white\", \"ticks\": \"\", \"title\": {\"standoff\": 15}, \"zerolinecolor\": \"white\", \"zerolinewidth\": 2}, \"yaxis\": {\"automargin\": true, \"gridcolor\": \"white\", \"linecolor\": \"white\", \"ticks\": \"\", \"title\": {\"standoff\": 15}, \"zerolinecolor\": \"white\", \"zerolinewidth\": 2}}}, \"title\": {\"text\": \"Basic Sankey Diagram\"}},                        {\"responsive\": true}                    ).then(function(){\n",
       "                            \n",
       "var gd = document.getElementById('5136611d-8e67-4128-92b5-3539a2ac8037');\n",
       "var x = new MutationObserver(function (mutations, observer) {{\n",
       "        var display = window.getComputedStyle(gd).display;\n",
       "        if (!display || display === 'none') {{\n",
       "            console.log([gd, 'removed!']);\n",
       "            Plotly.purge(gd);\n",
       "            observer.disconnect();\n",
       "        }}\n",
       "}});\n",
       "\n",
       "// Listen for the removal of the full notebook cells\n",
       "var notebookContainer = gd.closest('#notebook-container');\n",
       "if (notebookContainer) {{\n",
       "    x.observe(notebookContainer, {childList: true});\n",
       "}}\n",
       "\n",
       "// Listen for the clearing of the current output cell\n",
       "var outputEl = gd.closest('.output');\n",
       "if (outputEl) {{\n",
       "    x.observe(outputEl, {childList: true});\n",
       "}}\n",
       "\n",
       "                        })                };                });            </script>        </div>"
      ]
     },
     "metadata": {},
     "output_type": "display_data"
    }
   ],
   "source": [
    "partido = 'PSOL'\n",
    "fig = go.Figure(data=[go.Sankey(\n",
    "    node = dict(\n",
    "      pad = 15,\n",
    "      thickness = 20,\n",
    "      line = dict(color = \"black\", width = 0.5),\n",
    "      label = [\"Candidatos\", \"Capitais\", \"Outras Grandes Grandes\", \"Cidades Médias\", \"Cidades Pequenas\",\n",
    "               \"Eleitos\"],\n",
    "      color = \"blue\"\n",
    "    ),\n",
    "    link = dict(\n",
    "      source = [0, 0, 0, 0, 1, 2, 3, 4],\n",
    "      target = [1, 2, 3, 4, 5, 5, 5, 5],\n",
    "      value = [df_out.loc[partido,'cand_cap_grandes']+df_out.loc[partido,'cand_cap_medias'],\n",
    "               df_out.loc[partido,'cand_outras_grandes'],\n",
    "               df_out.loc[partido,'cand_medias'],\n",
    "               df_out.loc[partido,'cand_pequenas'],\n",
    "               df_out.loc[partido,'cand_cap_grandes_ele']+df_out.loc[partido,'cand_cap_medias_ele'],\n",
    "               df_out.loc[partido,'cand_outras_grandes_ele'],\n",
    "               df_out.loc[partido,'cand_medias_ele'],\n",
    "               df_out.loc[partido,'cand_pequenas_ele']]\n",
    "  ))])\n",
    "\n",
    "fig.update_layout(title_text=\"Basic Sankey Diagram\", font_size=10)\n",
    "fig.show()"
   ]
  },
  {
   "cell_type": "code",
   "execution_count": null,
   "metadata": {},
   "outputs": [],
   "source": []
  }
 ],
 "metadata": {
  "kernelspec": {
   "display_name": "Python 3",
   "language": "python",
   "name": "python3"
  },
  "language_info": {
   "codemirror_mode": {
    "name": "ipython",
    "version": 3
   },
   "file_extension": ".py",
   "mimetype": "text/x-python",
   "name": "python",
   "nbconvert_exporter": "python",
   "pygments_lexer": "ipython3",
   "version": "3.7.4"
  }
 },
 "nbformat": 4,
 "nbformat_minor": 2
}
